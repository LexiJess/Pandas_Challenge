{
 "cells": [
  {
   "cell_type": "code",
   "execution_count": 2,
   "metadata": {},
   "outputs": [],
   "source": [
    "# Modules\n",
    "import os\n",
    "import csv\n",
    "import pandas as pd"
   ]
  },
  {
   "cell_type": "code",
   "execution_count": 3,
   "metadata": {},
   "outputs": [
    {
     "data": {
      "text/html": [
       "<div>\n",
       "<style scoped>\n",
       "    .dataframe tbody tr th:only-of-type {\n",
       "        vertical-align: middle;\n",
       "    }\n",
       "\n",
       "    .dataframe tbody tr th {\n",
       "        vertical-align: top;\n",
       "    }\n",
       "\n",
       "    .dataframe thead th {\n",
       "        text-align: right;\n",
       "    }\n",
       "</style>\n",
       "<table border=\"1\" class=\"dataframe\">\n",
       "  <thead>\n",
       "    <tr style=\"text-align: right;\">\n",
       "      <th></th>\n",
       "      <th>Purchase ID</th>\n",
       "      <th>SN</th>\n",
       "      <th>Age</th>\n",
       "      <th>Gender</th>\n",
       "      <th>Item ID</th>\n",
       "      <th>Item Name</th>\n",
       "      <th>Price</th>\n",
       "    </tr>\n",
       "  </thead>\n",
       "  <tbody>\n",
       "    <tr>\n",
       "      <th>0</th>\n",
       "      <td>0</td>\n",
       "      <td>Lisim78</td>\n",
       "      <td>20</td>\n",
       "      <td>Male</td>\n",
       "      <td>108</td>\n",
       "      <td>Extraction, Quickblade Of Trembling Hands</td>\n",
       "      <td>3.53</td>\n",
       "    </tr>\n",
       "    <tr>\n",
       "      <th>1</th>\n",
       "      <td>1</td>\n",
       "      <td>Lisovynya38</td>\n",
       "      <td>40</td>\n",
       "      <td>Male</td>\n",
       "      <td>143</td>\n",
       "      <td>Frenzied Scimitar</td>\n",
       "      <td>1.56</td>\n",
       "    </tr>\n",
       "    <tr>\n",
       "      <th>2</th>\n",
       "      <td>2</td>\n",
       "      <td>Ithergue48</td>\n",
       "      <td>24</td>\n",
       "      <td>Male</td>\n",
       "      <td>92</td>\n",
       "      <td>Final Critic</td>\n",
       "      <td>4.88</td>\n",
       "    </tr>\n",
       "    <tr>\n",
       "      <th>3</th>\n",
       "      <td>3</td>\n",
       "      <td>Chamassasya86</td>\n",
       "      <td>24</td>\n",
       "      <td>Male</td>\n",
       "      <td>100</td>\n",
       "      <td>Blindscythe</td>\n",
       "      <td>3.27</td>\n",
       "    </tr>\n",
       "    <tr>\n",
       "      <th>4</th>\n",
       "      <td>4</td>\n",
       "      <td>Iskosia90</td>\n",
       "      <td>23</td>\n",
       "      <td>Male</td>\n",
       "      <td>131</td>\n",
       "      <td>Fury</td>\n",
       "      <td>1.44</td>\n",
       "    </tr>\n",
       "    <tr>\n",
       "      <th>...</th>\n",
       "      <td>...</td>\n",
       "      <td>...</td>\n",
       "      <td>...</td>\n",
       "      <td>...</td>\n",
       "      <td>...</td>\n",
       "      <td>...</td>\n",
       "      <td>...</td>\n",
       "    </tr>\n",
       "    <tr>\n",
       "      <th>775</th>\n",
       "      <td>775</td>\n",
       "      <td>Aethedru70</td>\n",
       "      <td>21</td>\n",
       "      <td>Female</td>\n",
       "      <td>60</td>\n",
       "      <td>Wolf</td>\n",
       "      <td>3.54</td>\n",
       "    </tr>\n",
       "    <tr>\n",
       "      <th>776</th>\n",
       "      <td>776</td>\n",
       "      <td>Iral74</td>\n",
       "      <td>21</td>\n",
       "      <td>Male</td>\n",
       "      <td>164</td>\n",
       "      <td>Exiled Doomblade</td>\n",
       "      <td>1.63</td>\n",
       "    </tr>\n",
       "    <tr>\n",
       "      <th>777</th>\n",
       "      <td>777</td>\n",
       "      <td>Yathecal72</td>\n",
       "      <td>20</td>\n",
       "      <td>Male</td>\n",
       "      <td>67</td>\n",
       "      <td>Celeste, Incarnation of the Corrupted</td>\n",
       "      <td>3.46</td>\n",
       "    </tr>\n",
       "    <tr>\n",
       "      <th>778</th>\n",
       "      <td>778</td>\n",
       "      <td>Sisur91</td>\n",
       "      <td>7</td>\n",
       "      <td>Male</td>\n",
       "      <td>92</td>\n",
       "      <td>Final Critic</td>\n",
       "      <td>4.19</td>\n",
       "    </tr>\n",
       "    <tr>\n",
       "      <th>779</th>\n",
       "      <td>779</td>\n",
       "      <td>Ennrian78</td>\n",
       "      <td>24</td>\n",
       "      <td>Male</td>\n",
       "      <td>50</td>\n",
       "      <td>Dawn</td>\n",
       "      <td>4.60</td>\n",
       "    </tr>\n",
       "  </tbody>\n",
       "</table>\n",
       "<p>780 rows × 7 columns</p>\n",
       "</div>"
      ],
      "text/plain": [
       "     Purchase ID             SN  Age  Gender  Item ID  \\\n",
       "0              0        Lisim78   20    Male      108   \n",
       "1              1    Lisovynya38   40    Male      143   \n",
       "2              2     Ithergue48   24    Male       92   \n",
       "3              3  Chamassasya86   24    Male      100   \n",
       "4              4      Iskosia90   23    Male      131   \n",
       "..           ...            ...  ...     ...      ...   \n",
       "775          775     Aethedru70   21  Female       60   \n",
       "776          776         Iral74   21    Male      164   \n",
       "777          777     Yathecal72   20    Male       67   \n",
       "778          778        Sisur91    7    Male       92   \n",
       "779          779      Ennrian78   24    Male       50   \n",
       "\n",
       "                                     Item Name  Price  \n",
       "0    Extraction, Quickblade Of Trembling Hands   3.53  \n",
       "1                            Frenzied Scimitar   1.56  \n",
       "2                                 Final Critic   4.88  \n",
       "3                                  Blindscythe   3.27  \n",
       "4                                         Fury   1.44  \n",
       "..                                         ...    ...  \n",
       "775                                       Wolf   3.54  \n",
       "776                           Exiled Doomblade   1.63  \n",
       "777      Celeste, Incarnation of the Corrupted   3.46  \n",
       "778                               Final Critic   4.19  \n",
       "779                                       Dawn   4.60  \n",
       "\n",
       "[780 rows x 7 columns]"
      ]
     },
     "execution_count": 3,
     "metadata": {},
     "output_type": "execute_result"
    }
   ],
   "source": [
    "# Set path for file\n",
    "csvpath = os.path.join(\"04-Pandas_Homework_Instructions_HeroesOfPymoli_Resources_purchase_data.csv\")\n",
    "playerdata=pd.read_csv(csvpath)\n",
    "playerdata\n"
   ]
  },
  {
   "cell_type": "code",
   "execution_count": 4,
   "metadata": {},
   "outputs": [
    {
     "data": {
      "text/plain": [
       "780"
      ]
     },
     "execution_count": 4,
     "metadata": {},
     "output_type": "execute_result"
    }
   ],
   "source": [
    "#display total number of players\n",
    "total_purchases=len(playerdata)\n",
    "total_purchases\n",
    "\n",
    "#this needs to be in a labeled column format? Make a dataframe with row labels? And unique identifiers only. "
   ]
  },
  {
   "cell_type": "code",
   "execution_count": 5,
   "metadata": {},
   "outputs": [
    {
     "name": "stdout",
     "output_type": "stream",
     "text": [
      "Unique elements in column \"SN\" \n",
      "['Lisim78' 'Lisovynya38' 'Ithergue48' 'Chamassasya86' 'Iskosia90'\n",
      " 'Yalae81' 'Itheria73' 'Iskjaskst81' 'Undjask33' 'Chanosian48' 'Inguron55'\n",
      " 'Haisrisuir60' 'Saelaephos52' 'Assjaskan73' 'Saesrideu94' 'Lisassa64'\n",
      " 'Lisirra25' 'Zontibe81' 'Reunasu60' 'Chamalo71' 'Iathenudil29'\n",
      " 'Phiarithdeu40' 'Siarithria38' 'Eyrian71' 'Siala43' 'Lisirra87'\n",
      " 'Lirtossa84' 'Eusri44' 'Aela59' 'Tyida79' 'Idai61' 'Farusrian86'\n",
      " 'Aeralria27' 'Haillyrgue51' 'Sondim73' 'Jeyciman68' 'Idaisuir85'\n",
      " 'Seuthep89' 'Reulae52' 'Sondilsaya62' 'Aerithriaphos45' 'Assosia88'\n",
      " 'Aidaillodeu39' 'Aelly27' 'Tyeosri53' 'Haerith37' 'Yasrisu92'\n",
      " 'Chanuchi25' 'Asur96' 'Iaralrgue74' 'Chanosia34' 'Aelin32' 'Ilosianya35'\n",
      " 'Zhisrisu83' 'Phaelap26' 'Raesty92' 'Palyon91' 'Tyisur83' 'Yaliru88'\n",
      " 'Yadanu52' 'Jiskimya77' 'Yadaphos40' 'Alo38' 'Phaena87' 'Chamirraya83'\n",
      " 'Chanastsda67' 'Indonmol95' 'Jiskossa61' 'Pheodai94' 'Hari50' 'Marilsa69'\n",
      " 'Assistasda42' 'Lisosia93' 'Philodil43' 'Mindadaran26' 'Lirtosia63'\n",
      " 'Assjaskan56' 'Irithlis29' 'Heudai45' 'Haerithp41' 'Aina42' 'Jiskjask60'\n",
      " 'Umolrian85' 'Qarirwen82' 'Laedallo55' 'Eoralrap26' 'Undosian34'\n",
      " 'Chadolyla44' 'Chadistaya75' 'Yathedeu43' 'Aina43' 'Ilassast39'\n",
      " 'Lisassala98' 'Aiduecal76' 'Chadossa89' 'Pheodaisun84' 'Heollyriap59'\n",
      " 'Maropast28' 'Frichim77' 'Thryallym62' 'Eulanurin88' 'Lassjaskan73'\n",
      " 'Tyaerith73' 'Sondadarya58' 'Hirirap39' 'Ririp86' 'Sundim98'\n",
      " 'Iskichinya81' 'Phyali88' 'Undirrala66' 'Nitherian58' 'Lassilsala30'\n",
      " 'Frichaststa61' 'Frichosia58' 'Ilosia37' 'Lisista27' 'Seudaillorap38'\n",
      " 'Aesty53' 'Yathecal82' 'Lisossanya98' 'Iral74' 'Lisast87' 'Maridisya31'\n",
      " 'Jiskassa76' 'Ethriel85' 'Iskirra45' 'Iri67' 'Rarallo90' 'Lisasi93'\n",
      " 'Adastirin33' 'Eyista89' 'Ili43' 'Chamirra53' 'Hailaphos89' 'Iskadarya95'\n",
      " 'Qilatista90' 'Inasti31' 'Marilsanya48' 'Marjask87' 'Chanjaskan89'\n",
      " 'Hyaduesu61' 'Aillyrin83' 'Marast30' 'Sundadar27' 'Tyaelorap29'\n",
      " 'Lirtimst73' 'Styaduen40' 'Sidap51' 'Chanastst38' 'Lirtassa52' 'Sondim68'\n",
      " 'Aeral97' 'Heosurnuru52' 'Lisopela58' 'Caesrinusuir82' 'Tyirinu79'\n",
      " 'Fironon91' 'Lassjask63' 'Indcil77' 'Chamimla73' 'Syathe73'\n",
      " 'Baelollodeu94' 'Mindista32' 'Saena74' 'Marirrasta50' 'Lamil79'\n",
      " 'Aenarap34' 'Aisur51' 'Thrientossa55' 'Chadista79' 'Tyeurith29'\n",
      " 'Malunil62' 'Hiasri33' 'Lisadar44' 'Frichjask31' 'Lisjaskya84'\n",
      " 'Ristydru66' 'Frichast28' 'Minduri31' 'Maradaran90' 'Mindetosya30'\n",
      " 'Ialallo29' 'Pheusrical25' 'Chanosia60' 'Phistym51' 'Aelollo59'\n",
      " 'Chamimla85' 'Haisurra41' 'Sondastsda82' 'Qilanrion65' 'Eulasuir89'\n",
      " 'Eosrirgue62' 'Shaidanu32' 'Lirtastan49' 'Iaralsuir44' 'Tyeudariasuir90'\n",
      " 'Cosadar58' 'Aelastirin39' 'Aidai53' 'Jiskjask85' 'Ealrion88'\n",
      " 'Chamjask73' 'Tyaenasti87' 'Alim85' 'Haeladil46' 'Jiskirran77'\n",
      " 'Undosia27' 'Peorith44' 'Yarithsurgue62' 'Taeduenu92' 'Rairin89'\n",
      " 'Aerithriaphos46' 'Idairin51' 'Lisista54' 'Eodailis27' 'Lirtastsda29'\n",
      " 'Undilsan50' 'Eodaisu60' 'Quaranmol58' 'Lirtossa60' 'Lirtilsa71'\n",
      " 'Isursuir31' 'Sundirrala66' 'Saerallora71' 'Iasur80' 'Tyaelo67'\n",
      " 'Quanunwen42' 'Yasur35' 'Assehoan67' 'Haellysu29' 'Saida58' 'Chamadar79'\n",
      " 'Aeral43' 'Lirtirra37' 'Tyidaim51' 'Lassassast73' 'Assassasta79'\n",
      " 'Heollyra92' 'Anallorgue57' 'Aerithllora36' 'Smaistysu35' 'Ennalmol65'\n",
      " 'Yarithrgue83' 'Yana46' 'Sondimla25' 'Aidai61' 'Wailin72' 'Firan91'\n",
      " 'Alaesu91' 'Aellynun67' 'Rilaera56' 'Eulaestira36' 'Marim28'\n",
      " 'Idastidru52' 'Ilirrasda54' 'Alaephos75' 'Syalollorap93' 'Minduli80'\n",
      " 'Chanastya70' 'Frichadaran88' 'Siallylis44' 'Aeri84' 'Iasursti71'\n",
      " 'Mindilsa34' 'Chamastya76' 'Undirra73' 'Aestysu37' 'Chadadarla74'\n",
      " 'Strithenu87' 'Iasrira89' 'Ialidru40' 'Tyalaesu89' 'Tyidainu31'\n",
      " 'Lirtilsa72' 'Undjaskla97' 'Saedaiphos46' 'Aerithnucal56' 'Lisossa46'\n",
      " 'Layjask75' 'Lisista63' 'Ceoral34' 'Hilaerin92' 'Chadilsasta32'\n",
      " 'Undassa89' 'Iduenu77' 'Lisosia66' 'Undimsya85' 'Phaedue89' 'Yadacal26'\n",
      " 'Lisossa25' 'Ilmol66' 'Yastyriaphos75' 'Hiasurria41' 'Palatyon26'\n",
      " 'Qilalista41' 'Hada39' 'Chamilsala65' 'Rairith81' 'Ilarin91' 'Ryanara76'\n",
      " 'Undista85' 'Tyeoralru41' 'Pheosrinudeu70' 'Heuli25' 'Pheutherin27'\n",
      " 'Chadirra90' 'Ali84' 'Frichjaskan98' 'Malil90' 'Yarithllodeu72'\n",
      " 'Tyaedainu44' 'Ethron58' 'Eusurdeu49' 'Saistyphos30' 'Saisrilis27'\n",
      " 'Hallysucal81' 'Ilimya66' 'Raysistast71' 'Haedairiadru51' 'Tyananurgue44'\n",
      " 'Risty84' 'Aerillorin70' 'Phistyn52' 'Yalo85' 'Chamirrasya33' 'Hiral75'\n",
      " 'Isursti83' 'Bartassaya73' 'Aeda94' 'Quinarap53' 'Asur53' 'Alarap40'\n",
      " 'Sida61' 'Hiarideu73' 'Lassassasda30' 'Ennoncil86' 'Siralsudeu54'\n",
      " 'Eusri26' 'Ardcil81' 'Marilsasya33' 'Lirtim36' 'Heunadil74' 'Frichadar89'\n",
      " 'Aesurstilis64' 'Idaidil28' 'Lisotesta51' 'Lisico81' 'Lisiriya82'\n",
      " 'Siana77' 'Marokian45' 'Sausosia74' 'Assesi91' 'Eusri70' 'Aisurria69'\n",
      " 'Iarilis73' 'Raisty38' 'Ilista82' 'Leyirra83' 'Aiduesu86' 'Frichynde86'\n",
      " 'Hisridru55' 'Chamossa77' 'Irillo49' 'Lirtastsya71' 'Frichosiala98'\n",
      " 'Qilunan34' 'Quarrion42' 'Aisurdru79' 'Hiaral50' 'Iarallo65'\n",
      " 'Sondassasya91' 'Chanossast57' 'Chanjask65' 'Ethralista69'\n",
      " 'Sondistanya61' 'Eudanu32' 'Euthe35' 'Lassimla92' 'Lisossala30' 'Eulae84'\n",
      " 'Chamadarnya73' 'Eolan54' 'Assistasda90' 'Ennrian78' 'Undirrasta89'\n",
      " 'Rianistast50' 'Undare39' 'Adairialis76' 'Aesur96' 'Tyialisudeu65'\n",
      " 'Arirgue63' 'Sundadarla27' 'Eyircil84' 'Ina92' 'Lirtistanya48'\n",
      " 'Marassa62' 'Mindossa76' 'Salilis27' 'Sondossa69' 'Sundjask71' 'Errian63'\n",
      " 'Eurithphos97' 'Raillydeu47' 'Malon70' 'Jiskimsda56' 'Marughi89'\n",
      " 'Ingatcil75' 'Chanirrasta87' 'Alaesu77' 'Ermol76' 'Tyeuduen32' 'Firon67'\n",
      " 'Iadueria43' 'Pheulidil31' 'Eodairu79' 'Frichocesta66' 'Thourdirra92'\n",
      " 'Chanastnya43' 'Iskim96' 'Eulolis41' 'Sastydeu50' 'Ilaesudil92' 'Yasur85'\n",
      " 'Aidain51' 'Aerithnuphos61' 'Yalostiphos68' 'Meosridil82' 'Aillyriadru65'\n",
      " 'Sally64' 'Lisim51' 'Isurria36' 'Silaera56' 'Leetirraya83' 'Lirtirra81'\n",
      " 'Eryon48' 'Iana95' 'Sondassan80' 'Chanadar44' 'Eosurdru76' 'Shidai42'\n",
      " 'Aesri53' 'Syally44' 'Jiskadarst60' 'Sondadar26' 'Malarrian73'\n",
      " 'Maluncil97' 'Ilunyon70' 'Yadam35' 'Dyally87' 'Pheosurllorin41'\n",
      " 'Frichaya88' 'Lassadarsda57' 'Marynde90' 'Isri34' 'Assastnya25'\n",
      " 'Ardonmol96' 'Lassirrasda85' 'Chadossa56' 'Poshilsa82' 'Yoishirrala98'\n",
      " 'Sundista37' 'Ilassa51' 'Filurarn35' 'Phaestycal84' 'Irilis75'\n",
      " 'Aeralstical35' 'Chanirrala39' 'Chanirra79' 'Assirra56' 'Seolollo93'\n",
      " 'Iathem87' 'Iasurriacal29' 'Lisast98' 'Filrion59' 'Halaecal66'\n",
      " 'Iskosian40' 'Ilastilis78' 'Seosrim97' 'Farrian71' 'Rithe53'\n",
      " 'Frichossala54' 'Chamjaskya75' 'Quanrion96' 'Tyaelaelis94' 'Quanenrian83'\n",
      " 'Chanirra64' 'Yadaisuir65' 'Syathecal44' 'Arin32' 'Aelaria33' 'Assassa81'\n",
      " 'Filrion83' 'Eoral49' 'Airi27' 'Eurisuru25' 'Liawista80' 'Lisirra58'\n",
      " 'Chamadarsda63' 'Haestyphos66' 'Phaedasurap84' 'Mindimnya67' 'Chadjask85'\n",
      " 'Eustyria89' 'Iskim66' 'Chamast86' 'Lirtassan78' 'Ethrasyon38'\n",
      " 'Quilassa66' 'Lisassasda39' 'Mindilsa60' 'Lalossa38' 'Chamistast30'\n",
      " 'Hariphos58' 'Assilsan72' 'Inasuir29' 'Chanilsasda38' 'Mindesi74'\n",
      " 'Ililsan66' 'Idacal95' 'Aeral68' 'Tyarithn67' 'Asty82' 'Yalaeria91'\n",
      " 'Chadjask77' 'Ealiril69' 'Quaecjask96' 'Firatan58' 'Yarolwen77'\n",
      " 'Tyaelistidru84' 'Yarithrin84' 'Tyaelly53' 'Phiristi62' 'Ililsasya43'\n",
      " 'Aithelis62' 'Undotesta33' 'Aelidru27' 'Chanossanya44' 'Maradarnya40'\n",
      " 'Lisilsa62' 'Saena89' 'Chanilsast61' 'Sundassa93' 'Aidai73' 'Indirrian56'\n",
      " 'Lisassasta50' 'Iduelis31' 'Chanosiaya39' 'Assylla81' 'Aidaira26'\n",
      " 'Eudanu84' 'Chamiman85' 'Tyialisti80' 'Marundi65' 'Eusur90'\n",
      " 'Mindirranya33' 'Phiallylis33' 'Isty55' 'Frichilsa31' 'Chanista95'\n",
      " 'Aellyria80' 'Rastynusuir31' 'Iljask75' 'Lisjaskan36' 'Mindjasksya61'\n",
      " 'Frichirranya75' 'Ilast79' 'Eratiel90' 'Assim27' 'Irith83' 'Ilosian36'\n",
      " 'Iskossasda43' 'Hala31' 'Jiskjask80' 'Aethedru70' 'Yathecal72' 'Sisur91']\n"
     ]
    }
   ],
   "source": [
    "#this gets us all the unique player names. Might be useful someday. \n",
    "unique_players = playerdata['SN'].unique()\n",
    "print('Unique elements in column \"SN\" ')\n",
    "print(unique_players)"
   ]
  },
  {
   "cell_type": "code",
   "execution_count": 6,
   "metadata": {},
   "outputs": [
    {
     "data": {
      "text/plain": [
       "576"
      ]
     },
     "execution_count": 6,
     "metadata": {},
     "output_type": "execute_result"
    }
   ],
   "source": [
    "#find number of unique players\n",
    "number_unique_players=len(unique_players)\n",
    "#print ('Number of Players')\n",
    "number_unique_players"
   ]
  },
  {
   "cell_type": "code",
   "execution_count": 7,
   "metadata": {},
   "outputs": [
    {
     "name": "stdout",
     "output_type": "stream",
     "text": [
      "['Extraction, Quickblade Of Trembling Hands' 'Frenzied Scimitar'\n",
      " 'Final Critic' 'Blindscythe' 'Fury' 'Dreamkiss'\n",
      " 'Interrogator, Blood Blade of the Queen' 'Abyssal Shard' 'Souleater'\n",
      " 'Ghastly Adamantite Protector' 'Singed Onyx Warscythe'\n",
      " 'Renewed Skeletal Katana' \"Bloodlord's Fetish\"\n",
      " 'Bone Crushing Silver Skewer' 'Deadline, Voice Of Subtlety'\n",
      " 'Second Chance' 'Devine' 'Nirvana' 'Blazefury, Protector of Delusions'\n",
      " 'Despair, Favor of Due Diligence' 'Sun Strike, Jaws of Twisted Visions'\n",
      " 'Warped Fetish' 'Severance' 'Persuasion'\n",
      " 'Oathbreaker, Last Hope of the Breaking Storm' 'Demise'\n",
      " 'Blood-Forged Skeletal Spine' 'Stormbringer, Dark Blade of Ending Misery'\n",
      " 'Shadow Strike, Glory of Ending Hope' 'Striker'\n",
      " 'Wolf, Promise of the Moonwalker' \"Faith's Scimitar\"\n",
      " 'Bonecarvin Battle Axe' 'Azurewrath' 'Vengeance Cleaver'\n",
      " 'Haunted Bronzed Bludgeon' 'Ritual Mace' 'Blade of the Grave'\n",
      " 'Thorn, Satchel of Dark Souls' \"Winter's Bite\"\n",
      " 'Thorn, Conqueror of the Corrupted' \"Reaper's Toll\" 'Avenger'\n",
      " 'Shadowsteel' 'Peacekeeper, Wit of Dark Magic' 'Suspension' 'Amnesia'\n",
      " 'Soul Infused Crystal' 'Wolf' 'Relentless Iron Skewer' 'Hero Cane'\n",
      " 'Arcane Gem' 'Dreamsong' 'Darkheart' 'Hailstorm Shadowsteel Scythe'\n",
      " 'Whistling Mithril Warblade' 'Foul Titanium Battle Axe' 'Retribution Axe'\n",
      " 'Rusty Skull' 'Riddle, Tribute of Ended Dreams' 'Chaos, Ender of the End'\n",
      " 'Storm-Weaver, Slayer of Inception' 'Venom Claymore'\n",
      " 'Emberling, Defender of Delusions' 'Netherbane' 'Dawn' 'Primitive Blade'\n",
      " 'Dawne' 'Curved Axe' 'Fate, Vengeance of Eternal Justice'\n",
      " 'Lazarus, Terror of the Earth' 'Lightning, Etcher of the King'\n",
      " 'Betrayal, Whisper of Grieving Widows' 'Exiled Doomblade'\n",
      " 'Undead Crusader' 'Downfall, Scalpel Of The Emperor' 'Sleepwalker'\n",
      " 'Eternal Cleaver' 'Expiration, Warscythe Of Lost Worlds' 'Malificent Bag'\n",
      " 'Mercy, Katana of Dismay' 'Orbit' 'Deathraze' 'Serenity'\n",
      " 'Heartstriker, Legacy of the Light' 'Glimmer, Ender of the Moon'\n",
      " 'Deluge, Edge of the West' 'Crucifer' 'Piece Maker'\n",
      " 'Brutality Ivory Warmace' \"Freak's Bite, Favor of Holy Might\"\n",
      " 'Yearning Crusher' 'Agatha' 'Fiery Glass Crusader' 'Splinter' 'Verdict'\n",
      " 'Warped Iron Scimitar' 'Darkheart, Butcher of the Champion'\n",
      " 'Purgatory, Gem of Regret' 'Woeful Adamantite Claymore'\n",
      " 'Hopeless Ebon Dualblade' \"Warmonger, Gift of Suffering's End\"\n",
      " \"Misery's End\" 'Phantomlight' 'Conqueror Adamantite Mace'\n",
      " \"Dragon's Greatsword\" 'Stormcaller' 'Spada, Etcher of Hatred'\n",
      " \"Twilight's Carver\" 'Putrid Fan' 'Blood Infused Guardian'\n",
      " 'Singed Scalpel' 'Warped Diamond Crusader' 'Endbringer' 'Feral Katana'\n",
      " 'Orenmir' 'Piety, Guardian of Riddles' 'Brimstone' 'Stormfury Mace'\n",
      " 'Frenzy, Defender of the Harvest' \"Solitude's Reaver\" 'Mercenary Sabre'\n",
      " 'Yearning Mageblade' 'Tranquility, Razor of Black Magic'\n",
      " 'Oathbreaker, Spellblade of Trials' 'Aetherius, Boon of the Blessed'\n",
      " 'Righteous Might' 'Victor Iron Spikes' 'Swan Song, Gouger Of Terror'\n",
      " 'Thunderfury Scimitar' 'Splitter, Foe Of Subtlety' 'Restored Bauble'\n",
      " 'The Decapitator' 'Pursuit, Cudgel of Necromancy' 'Lifebender'\n",
      " 'Flux, Destroyer of Due Diligence' 'Mourning Blade' 'Toothpick'\n",
      " \"Hope's End\" 'Torchlight, Bond of Storms' 'Thirsty Iron Reaver'\n",
      " 'Stormfury Longsword' 'Malice, Legacy of the Queen'\n",
      " 'War-Forged Gold Deflector' 'Blazeguard, Reach of Eternity'\n",
      " 'Soul-Forged Steel Shortsword' 'Hellreaver, Heirloom of Inception'\n",
      " 'Heartless Bone Dualblade' 'Scalpel' 'Hatred' 'Crying Steel Sickle'\n",
      " 'The Void, Vengeance of Dark Magic' 'Celeste'\n",
      " 'Ghost Reaver, Longsword of Magic'\n",
      " 'Celeste, Incarnation of the Corrupted' 'Glinting Glass Edge'\n",
      " 'The Oculus, Token of Lost Worlds' 'Massacre' 'Alpha, Oath of Zeal'\n",
      " 'Possessed Core' 'Foul Edge' 'Trickster' 'Fusion Pummel'\n",
      " 'Stormfury Lantern' 'Apocalyptic Battlescythe' 'Unholy Wand'\n",
      " 'Unending Tyranny' 'Ragnarok' 'Rage, Legacy of the Lone Victor'\n",
      " 'Worldbreaker' 'Exiled Mithril Longsword' 'Spectral Diamond Doomblade'\n",
      " 'Vindictive Glass Edge' 'Heartseeker, Reaver of Souls'\n",
      " 'Alpha, Reach of Ending Hope' 'Alpha' 'Betrayer'\n",
      " 'Winterthorn, Defender of Shifting Worlds' \"Gladiator's Glaive\"]\n"
     ]
    }
   ],
   "source": [
    "#make a list of the unique items\n",
    "unique_items=playerdata['Item Name'].unique()\n",
    "print (unique_items)\n"
   ]
  },
  {
   "cell_type": "code",
   "execution_count": 8,
   "metadata": {},
   "outputs": [
    {
     "data": {
      "text/plain": [
       "179"
      ]
     },
     "execution_count": 8,
     "metadata": {},
     "output_type": "execute_result"
    }
   ],
   "source": [
    "#obtain number of unique items\n",
    "number_unique_items=len(unique_items)\n",
    "number_unique_items"
   ]
  },
  {
   "cell_type": "code",
   "execution_count": 9,
   "metadata": {},
   "outputs": [
    {
     "data": {
      "text/plain": [
       "3.0509871794871795"
      ]
     },
     "execution_count": 9,
     "metadata": {},
     "output_type": "execute_result"
    }
   ],
   "source": [
    "#average price(sum of price column/total_purchases OR df.describe)\n",
    "\n",
    "average_price=playerdata.describe()['Price']['mean']\n",
    "average_price"
   ]
  },
  {
   "cell_type": "code",
   "execution_count": 10,
   "metadata": {},
   "outputs": [
    {
     "data": {
      "text/plain": [
       "780"
      ]
     },
     "execution_count": 10,
     "metadata": {},
     "output_type": "execute_result"
    }
   ],
   "source": [
    "#number of purchases is defined above\n",
    "total_purchases"
   ]
  },
  {
   "cell_type": "code",
   "execution_count": 11,
   "metadata": {},
   "outputs": [
    {
     "data": {
      "text/plain": [
       "2379.77"
      ]
     },
     "execution_count": 11,
     "metadata": {},
     "output_type": "execute_result"
    }
   ],
   "source": [
    "#finding total revenue for items sold\n",
    "\n",
    "total_revenue=playerdata.sum()[\"Price\"]\n",
    "total_revenue"
   ]
  },
  {
   "cell_type": "code",
   "execution_count": 12,
   "metadata": {},
   "outputs": [],
   "source": [
    "#sum_of_purchase=playerdata.sum()\n",
    "#sum_of_purchase\n",
    "#average_purchase_price="
   ]
  },
  {
   "cell_type": "code",
   "execution_count": 13,
   "metadata": {},
   "outputs": [
    {
     "data": {
      "text/html": [
       "<div>\n",
       "<style scoped>\n",
       "    .dataframe tbody tr th:only-of-type {\n",
       "        vertical-align: middle;\n",
       "    }\n",
       "\n",
       "    .dataframe tbody tr th {\n",
       "        vertical-align: top;\n",
       "    }\n",
       "\n",
       "    .dataframe thead th {\n",
       "        text-align: right;\n",
       "    }\n",
       "</style>\n",
       "<table border=\"1\" class=\"dataframe\">\n",
       "  <thead>\n",
       "    <tr style=\"text-align: right;\">\n",
       "      <th></th>\n",
       "      <th>Number of Unique Items</th>\n",
       "      <th>Average Price</th>\n",
       "      <th>Number of Purchases</th>\n",
       "      <th>Total Revenue</th>\n",
       "    </tr>\n",
       "  </thead>\n",
       "  <tbody>\n",
       "    <tr>\n",
       "      <th>0</th>\n",
       "      <td>179</td>\n",
       "      <td>3.050987</td>\n",
       "      <td>780</td>\n",
       "      <td>2379.77</td>\n",
       "    </tr>\n",
       "  </tbody>\n",
       "</table>\n",
       "</div>"
      ],
      "text/plain": [
       "   Number of Unique Items  Average Price  Number of Purchases  Total Revenue\n",
       "0                     179       3.050987                  780        2379.77"
      ]
     },
     "execution_count": 13,
     "metadata": {},
     "output_type": "execute_result"
    }
   ],
   "source": [
    "purchasing_analysis={}\n",
    "\n",
    "purchasing_analysis[\"Number of Unique Items\"]=[number_unique_items]\n",
    "purchasing_analysis[\"Average Price\"]=[average_price]\n",
    "purchasing_analysis[\"Number of Purchases\"]=[total_purchases]\n",
    "purchasing_analysis[\"Total Revenue\"]=[total_revenue]\n",
    "\n",
    "Total_Purchasing_Analysis=pd.DataFrame(purchasing_analysis)\n",
    "Total_Purchasing_Analysis"
   ]
  },
  {
   "cell_type": "code",
   "execution_count": 14,
   "metadata": {},
   "outputs": [
    {
     "data": {
      "text/html": [
       "<div>\n",
       "<style scoped>\n",
       "    .dataframe tbody tr th:only-of-type {\n",
       "        vertical-align: middle;\n",
       "    }\n",
       "\n",
       "    .dataframe tbody tr th {\n",
       "        vertical-align: top;\n",
       "    }\n",
       "\n",
       "    .dataframe thead th {\n",
       "        text-align: right;\n",
       "    }\n",
       "</style>\n",
       "<table border=\"1\" class=\"dataframe\">\n",
       "  <thead>\n",
       "    <tr style=\"text-align: right;\">\n",
       "      <th></th>\n",
       "      <th>Gender</th>\n",
       "      <th>SN</th>\n",
       "      <th>Age</th>\n",
       "    </tr>\n",
       "  </thead>\n",
       "  <tbody>\n",
       "    <tr>\n",
       "      <th>0</th>\n",
       "      <td>Male</td>\n",
       "      <td>Lisim78</td>\n",
       "      <td>20</td>\n",
       "    </tr>\n",
       "    <tr>\n",
       "      <th>1</th>\n",
       "      <td>Male</td>\n",
       "      <td>Lisovynya38</td>\n",
       "      <td>40</td>\n",
       "    </tr>\n",
       "    <tr>\n",
       "      <th>2</th>\n",
       "      <td>Male</td>\n",
       "      <td>Ithergue48</td>\n",
       "      <td>24</td>\n",
       "    </tr>\n",
       "    <tr>\n",
       "      <th>3</th>\n",
       "      <td>Male</td>\n",
       "      <td>Chamassasya86</td>\n",
       "      <td>24</td>\n",
       "    </tr>\n",
       "    <tr>\n",
       "      <th>4</th>\n",
       "      <td>Male</td>\n",
       "      <td>Iskosia90</td>\n",
       "      <td>23</td>\n",
       "    </tr>\n",
       "    <tr>\n",
       "      <th>...</th>\n",
       "      <td>...</td>\n",
       "      <td>...</td>\n",
       "      <td>...</td>\n",
       "    </tr>\n",
       "    <tr>\n",
       "      <th>773</th>\n",
       "      <td>Male</td>\n",
       "      <td>Hala31</td>\n",
       "      <td>21</td>\n",
       "    </tr>\n",
       "    <tr>\n",
       "      <th>774</th>\n",
       "      <td>Male</td>\n",
       "      <td>Jiskjask80</td>\n",
       "      <td>11</td>\n",
       "    </tr>\n",
       "    <tr>\n",
       "      <th>775</th>\n",
       "      <td>Female</td>\n",
       "      <td>Aethedru70</td>\n",
       "      <td>21</td>\n",
       "    </tr>\n",
       "    <tr>\n",
       "      <th>777</th>\n",
       "      <td>Male</td>\n",
       "      <td>Yathecal72</td>\n",
       "      <td>20</td>\n",
       "    </tr>\n",
       "    <tr>\n",
       "      <th>778</th>\n",
       "      <td>Male</td>\n",
       "      <td>Sisur91</td>\n",
       "      <td>7</td>\n",
       "    </tr>\n",
       "  </tbody>\n",
       "</table>\n",
       "<p>576 rows × 3 columns</p>\n",
       "</div>"
      ],
      "text/plain": [
       "     Gender             SN  Age\n",
       "0      Male        Lisim78   20\n",
       "1      Male    Lisovynya38   40\n",
       "2      Male     Ithergue48   24\n",
       "3      Male  Chamassasya86   24\n",
       "4      Male      Iskosia90   23\n",
       "..      ...            ...  ...\n",
       "773    Male         Hala31   21\n",
       "774    Male     Jiskjask80   11\n",
       "775  Female     Aethedru70   21\n",
       "777    Male     Yathecal72   20\n",
       "778    Male        Sisur91    7\n",
       "\n",
       "[576 rows x 3 columns]"
      ]
     },
     "execution_count": 14,
     "metadata": {},
     "output_type": "execute_result"
    }
   ],
   "source": [
    "playerdatadropduplicates=playerdata[[\"Gender\", \"SN\", \"Age\"]]\n",
    "\n",
    "playerdatadropduplicates = playerdatadropduplicates.drop_duplicates()\n",
    "\n",
    "playerdatadropduplicates\n"
   ]
  },
  {
   "cell_type": "code",
   "execution_count": 22,
   "metadata": {},
   "outputs": [
    {
     "data": {
      "text/plain": [
       "Male                     484\n",
       "Female                    81\n",
       "Other / Non-Disclosed     11\n",
       "Name: Gender, dtype: int64"
      ]
     },
     "execution_count": 22,
     "metadata": {},
     "output_type": "execute_result"
    }
   ],
   "source": [
    "gender_counts=playerdatadropduplicates[\"Gender\"].value_counts()\n",
    "gender_counts\n"
   ]
  },
  {
   "cell_type": "code",
   "execution_count": 51,
   "metadata": {},
   "outputs": [
    {
     "data": {
      "text/html": [
       "<div>\n",
       "<style scoped>\n",
       "    .dataframe tbody tr th:only-of-type {\n",
       "        vertical-align: middle;\n",
       "    }\n",
       "\n",
       "    .dataframe tbody tr th {\n",
       "        vertical-align: top;\n",
       "    }\n",
       "\n",
       "    .dataframe thead th {\n",
       "        text-align: right;\n",
       "    }\n",
       "</style>\n",
       "<table border=\"1\" class=\"dataframe\">\n",
       "  <thead>\n",
       "    <tr style=\"text-align: right;\">\n",
       "      <th></th>\n",
       "      <th>Total Count</th>\n",
       "    </tr>\n",
       "    <tr>\n",
       "      <th>Gender</th>\n",
       "      <th></th>\n",
       "    </tr>\n",
       "  </thead>\n",
       "  <tbody>\n",
       "    <tr>\n",
       "      <th>Female</th>\n",
       "      <td>81</td>\n",
       "    </tr>\n",
       "    <tr>\n",
       "      <th>Male</th>\n",
       "      <td>484</td>\n",
       "    </tr>\n",
       "    <tr>\n",
       "      <th>Other / Non-Disclosed</th>\n",
       "      <td>11</td>\n",
       "    </tr>\n",
       "  </tbody>\n",
       "</table>\n",
       "</div>"
      ],
      "text/plain": [
       "                       Total Count\n",
       "Gender                            \n",
       "Female                          81\n",
       "Male                           484\n",
       "Other / Non-Disclosed           11"
      ]
     },
     "execution_count": 51,
     "metadata": {},
     "output_type": "execute_result"
    }
   ],
   "source": [
    "player_sexes=playerdatadropduplicates.groupby('Gender').count() \n",
    "player_sexes[\"Total Count\"]=gender_counts\n",
    "\n",
    "player_sexes=player_sexes.drop([\"SN\", \"Age\"], axis=1)\n",
    "\n",
    "\n",
    "player_sexes\n"
   ]
  },
  {
   "cell_type": "code",
   "execution_count": 29,
   "metadata": {},
   "outputs": [
    {
     "data": {
      "text/plain": [
       "81"
      ]
     },
     "execution_count": 29,
     "metadata": {},
     "output_type": "execute_result"
    }
   ],
   "source": [
    "female_players=player_sexes.loc[\"Female\", \"SN\"]\n",
    "female_players\n",
    "\n"
   ]
  },
  {
   "cell_type": "code",
   "execution_count": 30,
   "metadata": {},
   "outputs": [
    {
     "data": {
      "text/plain": [
       "484"
      ]
     },
     "execution_count": 30,
     "metadata": {},
     "output_type": "execute_result"
    }
   ],
   "source": [
    "male_players=player_sexes.loc[\"Male\", \"SN\"]\n",
    "male_players"
   ]
  },
  {
   "cell_type": "code",
   "execution_count": 32,
   "metadata": {},
   "outputs": [
    {
     "data": {
      "text/plain": [
       "11"
      ]
     },
     "execution_count": 32,
     "metadata": {},
     "output_type": "execute_result"
    }
   ],
   "source": [
    "other_players=player_sexes.loc[\"Other / Non-Disclosed\", \"SN\"]\n",
    "other_players"
   ]
  },
  {
   "cell_type": "code",
   "execution_count": 24,
   "metadata": {},
   "outputs": [
    {
     "data": {
      "text/plain": [
       "Purchase ID    780\n",
       "SN             576\n",
       "Age             39\n",
       "Gender           3\n",
       "Item ID        179\n",
       "Item Name      179\n",
       "Price          145\n",
       "dtype: int64"
      ]
     },
     "execution_count": 24,
     "metadata": {},
     "output_type": "execute_result"
    }
   ],
   "source": [
    "playerdata.nunique(axis=0, dropna=True)"
   ]
  },
  {
   "cell_type": "code",
   "execution_count": 54,
   "metadata": {},
   "outputs": [
    {
     "data": {
      "text/html": [
       "<div>\n",
       "<style scoped>\n",
       "    .dataframe tbody tr th:only-of-type {\n",
       "        vertical-align: middle;\n",
       "    }\n",
       "\n",
       "    .dataframe tbody tr th {\n",
       "        vertical-align: top;\n",
       "    }\n",
       "\n",
       "    .dataframe thead th {\n",
       "        text-align: right;\n",
       "    }\n",
       "</style>\n",
       "<table border=\"1\" class=\"dataframe\">\n",
       "  <thead>\n",
       "    <tr style=\"text-align: right;\">\n",
       "      <th></th>\n",
       "      <th>Total Count</th>\n",
       "      <th>Percentage</th>\n",
       "    </tr>\n",
       "    <tr>\n",
       "      <th>Gender</th>\n",
       "      <th></th>\n",
       "      <th></th>\n",
       "    </tr>\n",
       "  </thead>\n",
       "  <tbody>\n",
       "    <tr>\n",
       "      <th>Female</th>\n",
       "      <td>81</td>\n",
       "      <td>14.062500</td>\n",
       "    </tr>\n",
       "    <tr>\n",
       "      <th>Male</th>\n",
       "      <td>484</td>\n",
       "      <td>84.027778</td>\n",
       "    </tr>\n",
       "    <tr>\n",
       "      <th>Other / Non-Disclosed</th>\n",
       "      <td>11</td>\n",
       "      <td>1.909722</td>\n",
       "    </tr>\n",
       "  </tbody>\n",
       "</table>\n",
       "</div>"
      ],
      "text/plain": [
       "                       Total Count  Percentage\n",
       "Gender                                        \n",
       "Female                          81   14.062500\n",
       "Male                           484   84.027778\n",
       "Other / Non-Disclosed           11    1.909722"
      ]
     },
     "execution_count": 54,
     "metadata": {},
     "output_type": "execute_result"
    }
   ],
   "source": [
    "player_sexes[\"Percentage\"]=(player_sexes/number_unique_players)*100 \n",
    "\n",
    "\n",
    "\n",
    "player_sexes\n"
   ]
  },
  {
   "cell_type": "code",
   "execution_count": 72,
   "metadata": {},
   "outputs": [
    {
     "data": {
      "text/html": [
       "<div>\n",
       "<style scoped>\n",
       "    .dataframe tbody tr th:only-of-type {\n",
       "        vertical-align: middle;\n",
       "    }\n",
       "\n",
       "    .dataframe tbody tr th {\n",
       "        vertical-align: top;\n",
       "    }\n",
       "\n",
       "    .dataframe thead th {\n",
       "        text-align: right;\n",
       "    }\n",
       "</style>\n",
       "<table border=\"1\" class=\"dataframe\">\n",
       "  <thead>\n",
       "    <tr style=\"text-align: right;\">\n",
       "      <th></th>\n",
       "      <th>Purchase ID</th>\n",
       "      <th>SN</th>\n",
       "      <th>Age</th>\n",
       "      <th>Gender</th>\n",
       "      <th>Item ID</th>\n",
       "      <th>Item Name</th>\n",
       "      <th>Price</th>\n",
       "    </tr>\n",
       "  </thead>\n",
       "  <tbody>\n",
       "    <tr>\n",
       "      <th>0</th>\n",
       "      <td>0</td>\n",
       "      <td>Lisim78</td>\n",
       "      <td>20</td>\n",
       "      <td>Male</td>\n",
       "      <td>108</td>\n",
       "      <td>Extraction, Quickblade Of Trembling Hands</td>\n",
       "      <td>3.53</td>\n",
       "    </tr>\n",
       "    <tr>\n",
       "      <th>1</th>\n",
       "      <td>1</td>\n",
       "      <td>Lisovynya38</td>\n",
       "      <td>40</td>\n",
       "      <td>Male</td>\n",
       "      <td>143</td>\n",
       "      <td>Frenzied Scimitar</td>\n",
       "      <td>1.56</td>\n",
       "    </tr>\n",
       "    <tr>\n",
       "      <th>2</th>\n",
       "      <td>2</td>\n",
       "      <td>Ithergue48</td>\n",
       "      <td>24</td>\n",
       "      <td>Male</td>\n",
       "      <td>92</td>\n",
       "      <td>Final Critic</td>\n",
       "      <td>4.88</td>\n",
       "    </tr>\n",
       "    <tr>\n",
       "      <th>3</th>\n",
       "      <td>3</td>\n",
       "      <td>Chamassasya86</td>\n",
       "      <td>24</td>\n",
       "      <td>Male</td>\n",
       "      <td>100</td>\n",
       "      <td>Blindscythe</td>\n",
       "      <td>3.27</td>\n",
       "    </tr>\n",
       "    <tr>\n",
       "      <th>4</th>\n",
       "      <td>4</td>\n",
       "      <td>Iskosia90</td>\n",
       "      <td>23</td>\n",
       "      <td>Male</td>\n",
       "      <td>131</td>\n",
       "      <td>Fury</td>\n",
       "      <td>1.44</td>\n",
       "    </tr>\n",
       "    <tr>\n",
       "      <th>...</th>\n",
       "      <td>...</td>\n",
       "      <td>...</td>\n",
       "      <td>...</td>\n",
       "      <td>...</td>\n",
       "      <td>...</td>\n",
       "      <td>...</td>\n",
       "      <td>...</td>\n",
       "    </tr>\n",
       "    <tr>\n",
       "      <th>775</th>\n",
       "      <td>775</td>\n",
       "      <td>Aethedru70</td>\n",
       "      <td>21</td>\n",
       "      <td>Female</td>\n",
       "      <td>60</td>\n",
       "      <td>Wolf</td>\n",
       "      <td>3.54</td>\n",
       "    </tr>\n",
       "    <tr>\n",
       "      <th>776</th>\n",
       "      <td>776</td>\n",
       "      <td>Iral74</td>\n",
       "      <td>21</td>\n",
       "      <td>Male</td>\n",
       "      <td>164</td>\n",
       "      <td>Exiled Doomblade</td>\n",
       "      <td>1.63</td>\n",
       "    </tr>\n",
       "    <tr>\n",
       "      <th>777</th>\n",
       "      <td>777</td>\n",
       "      <td>Yathecal72</td>\n",
       "      <td>20</td>\n",
       "      <td>Male</td>\n",
       "      <td>67</td>\n",
       "      <td>Celeste, Incarnation of the Corrupted</td>\n",
       "      <td>3.46</td>\n",
       "    </tr>\n",
       "    <tr>\n",
       "      <th>778</th>\n",
       "      <td>778</td>\n",
       "      <td>Sisur91</td>\n",
       "      <td>7</td>\n",
       "      <td>Male</td>\n",
       "      <td>92</td>\n",
       "      <td>Final Critic</td>\n",
       "      <td>4.19</td>\n",
       "    </tr>\n",
       "    <tr>\n",
       "      <th>779</th>\n",
       "      <td>779</td>\n",
       "      <td>Ennrian78</td>\n",
       "      <td>24</td>\n",
       "      <td>Male</td>\n",
       "      <td>50</td>\n",
       "      <td>Dawn</td>\n",
       "      <td>4.60</td>\n",
       "    </tr>\n",
       "  </tbody>\n",
       "</table>\n",
       "<p>780 rows × 7 columns</p>\n",
       "</div>"
      ],
      "text/plain": [
       "     Purchase ID             SN  Age  Gender  Item ID  \\\n",
       "0              0        Lisim78   20    Male      108   \n",
       "1              1    Lisovynya38   40    Male      143   \n",
       "2              2     Ithergue48   24    Male       92   \n",
       "3              3  Chamassasya86   24    Male      100   \n",
       "4              4      Iskosia90   23    Male      131   \n",
       "..           ...            ...  ...     ...      ...   \n",
       "775          775     Aethedru70   21  Female       60   \n",
       "776          776         Iral74   21    Male      164   \n",
       "777          777     Yathecal72   20    Male       67   \n",
       "778          778        Sisur91    7    Male       92   \n",
       "779          779      Ennrian78   24    Male       50   \n",
       "\n",
       "                                     Item Name  Price  \n",
       "0    Extraction, Quickblade Of Trembling Hands   3.53  \n",
       "1                            Frenzied Scimitar   1.56  \n",
       "2                                 Final Critic   4.88  \n",
       "3                                  Blindscythe   3.27  \n",
       "4                                         Fury   1.44  \n",
       "..                                         ...    ...  \n",
       "775                                       Wolf   3.54  \n",
       "776                           Exiled Doomblade   1.63  \n",
       "777      Celeste, Incarnation of the Corrupted   3.46  \n",
       "778                               Final Critic   4.19  \n",
       "779                                       Dawn   4.60  \n",
       "\n",
       "[780 rows x 7 columns]"
      ]
     },
     "execution_count": 72,
     "metadata": {},
     "output_type": "execute_result"
    }
   ],
   "source": [
    "playerdata"
   ]
  },
  {
   "cell_type": "code",
   "execution_count": 93,
   "metadata": {},
   "outputs": [
    {
     "data": {
      "text/html": [
       "<div>\n",
       "<style scoped>\n",
       "    .dataframe tbody tr th:only-of-type {\n",
       "        vertical-align: middle;\n",
       "    }\n",
       "\n",
       "    .dataframe tbody tr th {\n",
       "        vertical-align: top;\n",
       "    }\n",
       "\n",
       "    .dataframe thead th {\n",
       "        text-align: right;\n",
       "    }\n",
       "</style>\n",
       "<table border=\"1\" class=\"dataframe\">\n",
       "  <thead>\n",
       "    <tr style=\"text-align: right;\">\n",
       "      <th></th>\n",
       "      <th>Total Purchase Value</th>\n",
       "      <th>Purchase Count</th>\n",
       "      <th>Average Purchase Price</th>\n",
       "      <th>Avg Total Purchase per Person</th>\n",
       "    </tr>\n",
       "    <tr>\n",
       "      <th>Gender</th>\n",
       "      <th></th>\n",
       "      <th></th>\n",
       "      <th></th>\n",
       "      <th></th>\n",
       "    </tr>\n",
       "  </thead>\n",
       "  <tbody>\n",
       "    <tr>\n",
       "      <th>Female</th>\n",
       "      <td>361.94</td>\n",
       "      <td>113</td>\n",
       "      <td>3.203009</td>\n",
       "      <td>4.468395</td>\n",
       "    </tr>\n",
       "    <tr>\n",
       "      <th>Male</th>\n",
       "      <td>1967.64</td>\n",
       "      <td>652</td>\n",
       "      <td>3.017853</td>\n",
       "      <td>4.065372</td>\n",
       "    </tr>\n",
       "    <tr>\n",
       "      <th>Other / Non-Disclosed</th>\n",
       "      <td>50.19</td>\n",
       "      <td>15</td>\n",
       "      <td>3.346000</td>\n",
       "      <td>4.562727</td>\n",
       "    </tr>\n",
       "  </tbody>\n",
       "</table>\n",
       "</div>"
      ],
      "text/plain": [
       "                       Total Purchase Value  Purchase Count  \\\n",
       "Gender                                                        \n",
       "Female                               361.94             113   \n",
       "Male                                1967.64             652   \n",
       "Other / Non-Disclosed                 50.19              15   \n",
       "\n",
       "                       Average Purchase Price  Avg Total Purchase per Person  \n",
       "Gender                                                                        \n",
       "Female                               3.203009                       4.468395  \n",
       "Male                                 3.017853                       4.065372  \n",
       "Other / Non-Disclosed                3.346000                       4.562727  "
      ]
     },
     "execution_count": 93,
     "metadata": {},
     "output_type": "execute_result"
    }
   ],
   "source": [
    "\n",
    "gender_purchase_total=playerdata.groupby([\"Gender\"]).sum()[\"Price\"].rename(\"Total Purchase Value\")\n",
    "total_purchase_value=gender_purchase_total\n",
    "\n",
    "purchase_count=playerdata.groupby([\"Gender\"]).count()[\"Item Name\"].rename(\"Total Count\")\n",
    "\n",
    "gender_purchase_total=pd.DataFrame(gender_purchase_total)\n",
    "gender_purchase_total[\"Purchase Count\"]= purchase_count\n",
    "gender_purchase_total[\"Average Purchase Price\"]= total_purchase_value /purchase_count\n",
    "gender_purchase_total[\"Avg Total Purchase per Person\"]=total_purchase_value/player_sexes[\"Total Count\"]\n",
    "\n",
    "\n",
    "gender_purchase_total\n"
   ]
  },
  {
   "cell_type": "code",
   "execution_count": 83,
   "metadata": {},
   "outputs": [
    {
     "data": {
      "text/html": [
       "<div>\n",
       "<style scoped>\n",
       "    .dataframe tbody tr th:only-of-type {\n",
       "        vertical-align: middle;\n",
       "    }\n",
       "\n",
       "    .dataframe tbody tr th {\n",
       "        vertical-align: top;\n",
       "    }\n",
       "\n",
       "    .dataframe thead th {\n",
       "        text-align: right;\n",
       "    }\n",
       "</style>\n",
       "<table border=\"1\" class=\"dataframe\">\n",
       "  <thead>\n",
       "    <tr style=\"text-align: right;\">\n",
       "      <th></th>\n",
       "      <th>Total Count</th>\n",
       "    </tr>\n",
       "    <tr>\n",
       "      <th>Gender</th>\n",
       "      <th></th>\n",
       "    </tr>\n",
       "  </thead>\n",
       "  <tbody>\n",
       "    <tr>\n",
       "      <th>Female</th>\n",
       "      <td>113</td>\n",
       "    </tr>\n",
       "    <tr>\n",
       "      <th>Male</th>\n",
       "      <td>652</td>\n",
       "    </tr>\n",
       "    <tr>\n",
       "      <th>Other / Non-Disclosed</th>\n",
       "      <td>15</td>\n",
       "    </tr>\n",
       "  </tbody>\n",
       "</table>\n",
       "</div>"
      ],
      "text/plain": [
       "                       Total Count\n",
       "Gender                            \n",
       "Female                         113\n",
       "Male                           652\n",
       "Other / Non-Disclosed           15"
      ]
     },
     "execution_count": 83,
     "metadata": {},
     "output_type": "execute_result"
    }
   ],
   "source": [
    "purchase_count=playerdata.groupby([\"Gender\"]).count()[\"Item Name\"].rename(\"Total Count\")\n",
    "purchase_count=pd.DataFrame(purchase_count)\n",
    "purchase_count"
   ]
  },
  {
   "cell_type": "code",
   "execution_count": null,
   "metadata": {},
   "outputs": [],
   "source": []
  },
  {
   "cell_type": "code",
   "execution_count": null,
   "metadata": {},
   "outputs": [],
   "source": []
  },
  {
   "cell_type": "code",
   "execution_count": null,
   "metadata": {},
   "outputs": [],
   "source": []
  }
 ],
 "metadata": {
  "kernelspec": {
   "display_name": "Python [conda env:PythonData] *",
   "language": "python",
   "name": "conda-env-PythonData-py"
  },
  "language_info": {
   "codemirror_mode": {
    "name": "ipython",
    "version": 3
   },
   "file_extension": ".py",
   "mimetype": "text/x-python",
   "name": "python",
   "nbconvert_exporter": "python",
   "pygments_lexer": "ipython3",
   "version": "3.7.1"
  }
 },
 "nbformat": 4,
 "nbformat_minor": 4
}
