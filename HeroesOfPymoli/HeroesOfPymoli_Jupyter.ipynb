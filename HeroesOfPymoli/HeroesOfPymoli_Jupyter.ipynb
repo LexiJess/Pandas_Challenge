{
 "cells": [
  {
   "cell_type": "code",
   "execution_count": 121,
   "metadata": {},
   "outputs": [],
   "source": [
    "# Modules\n",
    "import os\n",
    "import csv\n",
    "import pandas as pd"
   ]
  },
  {
   "cell_type": "code",
   "execution_count": 122,
   "metadata": {},
   "outputs": [],
   "source": [
    "# Set path for file\n",
    "csvpath = os.path.join(\"04-Pandas_Homework_Instructions_HeroesOfPymoli_Resources_purchase_data.csv\")\n",
    "playerdata=pd.read_csv(csvpath)\n",
    "#playerdata"
   ]
  },
  {
   "cell_type": "code",
   "execution_count": 123,
   "metadata": {},
   "outputs": [
    {
     "data": {
      "text/plain": [
       "780"
      ]
     },
     "execution_count": 123,
     "metadata": {},
     "output_type": "execute_result"
    }
   ],
   "source": [
    "#display total number of purchases, just for fun.\n",
    "total_purchases=len(playerdata)\n",
    "total_purchases"
   ]
  },
  {
   "cell_type": "code",
   "execution_count": 124,
   "metadata": {},
   "outputs": [],
   "source": [
    "#this gets us all the unique player names. Can be called, but not doing it for brevity\n",
    "unique_players = playerdata['SN'].unique()\n",
    "#print('Unique elements in column \"SN\" ')\n",
    "#print(unique_players)"
   ]
  },
  {
   "cell_type": "code",
   "execution_count": 132,
   "metadata": {},
   "outputs": [
    {
     "name": "stdout",
     "output_type": "stream",
     "text": [
      "Number of Players\n",
      "576\n"
     ]
    }
   ],
   "source": [
    "#find number of unique players. I tired to format this into a DataFrame (see commented line) but it keps giving me an error\n",
    "#\"DataFrame not formatted correctly\" and I'm at a loss to solve this. I've tried. A LOT. \n",
    "number_unique_players=len(unique_players)\n",
    "\n",
    "number_unique_players_int=int(number_unique_players)\n",
    "\n",
    "\n",
    "#number_unique_players_int_df=pd.DataFrame(number_unique_players_int)\n",
    "print ('Number of Players')\n",
    "print(number_unique_players_int)\n",
    "\n",
    "\n"
   ]
  },
  {
   "cell_type": "code",
   "execution_count": 133,
   "metadata": {},
   "outputs": [],
   "source": [
    "#make a list of the unique items. This can be called, not doing it for brevity.\n",
    "unique_items=playerdata['Item Name'].unique()\n",
    "#print (unique_items)\n"
   ]
  },
  {
   "cell_type": "code",
   "execution_count": 135,
   "metadata": {},
   "outputs": [
    {
     "data": {
      "text/plain": [
       "179"
      ]
     },
     "execution_count": 135,
     "metadata": {},
     "output_type": "execute_result"
    }
   ],
   "source": [
    "#obtain number of unique items\n",
    "number_unique_items=len(unique_items)\n",
    "number_unique_items"
   ]
  },
  {
   "cell_type": "code",
   "execution_count": 69,
   "metadata": {},
   "outputs": [
    {
     "data": {
      "text/plain": [
       "3.0509871794871795"
      ]
     },
     "execution_count": 69,
     "metadata": {},
     "output_type": "execute_result"
    }
   ],
   "source": [
    "#average price(sum of price column/total_purchases OR df.describe)\n",
    "\n",
    "average_price=playerdata.describe()['Price']['mean']\n",
    "average_price"
   ]
  },
  {
   "cell_type": "code",
   "execution_count": 70,
   "metadata": {},
   "outputs": [
    {
     "data": {
      "text/plain": [
       "780"
      ]
     },
     "execution_count": 70,
     "metadata": {},
     "output_type": "execute_result"
    }
   ],
   "source": [
    "#number of purchases is defined above\n",
    "total_purchases"
   ]
  },
  {
   "cell_type": "code",
   "execution_count": 71,
   "metadata": {},
   "outputs": [
    {
     "data": {
      "text/plain": [
       "2379.77"
      ]
     },
     "execution_count": 71,
     "metadata": {},
     "output_type": "execute_result"
    }
   ],
   "source": [
    "#finding total revenue for items sold\n",
    "\n",
    "total_revenue=playerdata.sum()[\"Price\"]\n",
    "total_revenue"
   ]
  },
  {
   "cell_type": "code",
   "execution_count": 72,
   "metadata": {},
   "outputs": [],
   "source": []
  },
  {
   "cell_type": "code",
   "execution_count": 136,
   "metadata": {},
   "outputs": [
    {
     "data": {
      "text/html": [
       "<div>\n",
       "<style scoped>\n",
       "    .dataframe tbody tr th:only-of-type {\n",
       "        vertical-align: middle;\n",
       "    }\n",
       "\n",
       "    .dataframe tbody tr th {\n",
       "        vertical-align: top;\n",
       "    }\n",
       "\n",
       "    .dataframe thead th {\n",
       "        text-align: right;\n",
       "    }\n",
       "</style>\n",
       "<table border=\"1\" class=\"dataframe\">\n",
       "  <thead>\n",
       "    <tr style=\"text-align: right;\">\n",
       "      <th></th>\n",
       "      <th>Number of Unique Items</th>\n",
       "      <th>Average Price</th>\n",
       "      <th>Number of Purchases</th>\n",
       "      <th>Total Revenue</th>\n",
       "    </tr>\n",
       "  </thead>\n",
       "  <tbody>\n",
       "    <tr>\n",
       "      <th>0</th>\n",
       "      <td>179</td>\n",
       "      <td>3.050987</td>\n",
       "      <td>780</td>\n",
       "      <td>2379.77</td>\n",
       "    </tr>\n",
       "  </tbody>\n",
       "</table>\n",
       "</div>"
      ],
      "text/plain": [
       "   Number of Unique Items  Average Price  Number of Purchases  Total Revenue\n",
       "0                     179       3.050987                  780        2379.77"
      ]
     },
     "execution_count": 136,
     "metadata": {},
     "output_type": "execute_result"
    }
   ],
   "source": [
    "purchasing_analysis={}\n",
    "\n",
    "purchasing_analysis[\"Number of Unique Items\"]=[number_unique_items]\n",
    "purchasing_analysis[\"Average Price\"]=[average_price]\n",
    "purchasing_analysis[\"Number of Purchases\"]=[total_purchases]\n",
    "purchasing_analysis[\"Total Revenue\"]=[total_revenue]\n",
    "\n",
    "Total_Purchasing_Analysis=pd.DataFrame(purchasing_analysis)\n",
    "Total_Purchasing_Analysis"
   ]
  },
  {
   "cell_type": "code",
   "execution_count": 74,
   "metadata": {},
   "outputs": [
    {
     "data": {
      "text/html": [
       "<div>\n",
       "<style scoped>\n",
       "    .dataframe tbody tr th:only-of-type {\n",
       "        vertical-align: middle;\n",
       "    }\n",
       "\n",
       "    .dataframe tbody tr th {\n",
       "        vertical-align: top;\n",
       "    }\n",
       "\n",
       "    .dataframe thead th {\n",
       "        text-align: right;\n",
       "    }\n",
       "</style>\n",
       "<table border=\"1\" class=\"dataframe\">\n",
       "  <thead>\n",
       "    <tr style=\"text-align: right;\">\n",
       "      <th></th>\n",
       "      <th>Gender</th>\n",
       "      <th>SN</th>\n",
       "      <th>Age</th>\n",
       "    </tr>\n",
       "  </thead>\n",
       "  <tbody>\n",
       "    <tr>\n",
       "      <th>0</th>\n",
       "      <td>Male</td>\n",
       "      <td>Lisim78</td>\n",
       "      <td>20</td>\n",
       "    </tr>\n",
       "    <tr>\n",
       "      <th>1</th>\n",
       "      <td>Male</td>\n",
       "      <td>Lisovynya38</td>\n",
       "      <td>40</td>\n",
       "    </tr>\n",
       "    <tr>\n",
       "      <th>2</th>\n",
       "      <td>Male</td>\n",
       "      <td>Ithergue48</td>\n",
       "      <td>24</td>\n",
       "    </tr>\n",
       "    <tr>\n",
       "      <th>3</th>\n",
       "      <td>Male</td>\n",
       "      <td>Chamassasya86</td>\n",
       "      <td>24</td>\n",
       "    </tr>\n",
       "    <tr>\n",
       "      <th>4</th>\n",
       "      <td>Male</td>\n",
       "      <td>Iskosia90</td>\n",
       "      <td>23</td>\n",
       "    </tr>\n",
       "    <tr>\n",
       "      <th>...</th>\n",
       "      <td>...</td>\n",
       "      <td>...</td>\n",
       "      <td>...</td>\n",
       "    </tr>\n",
       "    <tr>\n",
       "      <th>773</th>\n",
       "      <td>Male</td>\n",
       "      <td>Hala31</td>\n",
       "      <td>21</td>\n",
       "    </tr>\n",
       "    <tr>\n",
       "      <th>774</th>\n",
       "      <td>Male</td>\n",
       "      <td>Jiskjask80</td>\n",
       "      <td>11</td>\n",
       "    </tr>\n",
       "    <tr>\n",
       "      <th>775</th>\n",
       "      <td>Female</td>\n",
       "      <td>Aethedru70</td>\n",
       "      <td>21</td>\n",
       "    </tr>\n",
       "    <tr>\n",
       "      <th>777</th>\n",
       "      <td>Male</td>\n",
       "      <td>Yathecal72</td>\n",
       "      <td>20</td>\n",
       "    </tr>\n",
       "    <tr>\n",
       "      <th>778</th>\n",
       "      <td>Male</td>\n",
       "      <td>Sisur91</td>\n",
       "      <td>7</td>\n",
       "    </tr>\n",
       "  </tbody>\n",
       "</table>\n",
       "<p>576 rows × 3 columns</p>\n",
       "</div>"
      ],
      "text/plain": [
       "     Gender             SN  Age\n",
       "0      Male        Lisim78   20\n",
       "1      Male    Lisovynya38   40\n",
       "2      Male     Ithergue48   24\n",
       "3      Male  Chamassasya86   24\n",
       "4      Male      Iskosia90   23\n",
       "..      ...            ...  ...\n",
       "773    Male         Hala31   21\n",
       "774    Male     Jiskjask80   11\n",
       "775  Female     Aethedru70   21\n",
       "777    Male     Yathecal72   20\n",
       "778    Male        Sisur91    7\n",
       "\n",
       "[576 rows x 3 columns]"
      ]
     },
     "execution_count": 74,
     "metadata": {},
     "output_type": "execute_result"
    }
   ],
   "source": [
    "playerdatadropduplicates=playerdata[[\"Gender\", \"SN\", \"Age\"]]\n",
    "\n",
    "playerdatadropduplicates = playerdatadropduplicates.drop_duplicates()\n",
    "\n",
    "playerdatadropduplicates\n"
   ]
  },
  {
   "cell_type": "code",
   "execution_count": 137,
   "metadata": {},
   "outputs": [],
   "source": [
    "gender_counts=playerdatadropduplicates[\"Gender\"].value_counts()\n",
    "#gender_counts\n"
   ]
  },
  {
   "cell_type": "code",
   "execution_count": 138,
   "metadata": {},
   "outputs": [],
   "source": [
    "player_sexes=playerdatadropduplicates.groupby('Gender').count() \n",
    "player_sexes[\"Total Count\"]=gender_counts\n",
    "\n",
    "player_sexes_nosn=player_sexes.drop([\"SN\", \"Age\"], axis=1)\n",
    "\n",
    "\n",
    "#player_sexes_nosn\n"
   ]
  },
  {
   "cell_type": "code",
   "execution_count": 139,
   "metadata": {},
   "outputs": [],
   "source": [
    "female_players=player_sexes.loc[\"Female\", \"SN\"]\n",
    "#female_players\n",
    "\n"
   ]
  },
  {
   "cell_type": "code",
   "execution_count": 140,
   "metadata": {},
   "outputs": [],
   "source": [
    "male_players=player_sexes.loc[\"Male\", \"SN\"]\n",
    "#male_players"
   ]
  },
  {
   "cell_type": "code",
   "execution_count": 141,
   "metadata": {},
   "outputs": [],
   "source": [
    "other_players=player_sexes.loc[\"Other / Non-Disclosed\", \"SN\"]\n",
    "#other_players"
   ]
  },
  {
   "cell_type": "code",
   "execution_count": 80,
   "metadata": {},
   "outputs": [
    {
     "data": {
      "text/plain": [
       "Purchase ID    780\n",
       "SN             576\n",
       "Age             39\n",
       "Gender           3\n",
       "Item ID        179\n",
       "Item Name      179\n",
       "Price          145\n",
       "dtype: int64"
      ]
     },
     "execution_count": 80,
     "metadata": {},
     "output_type": "execute_result"
    }
   ],
   "source": [
    "playerdata.nunique(axis=0, dropna=True)"
   ]
  },
  {
   "cell_type": "code",
   "execution_count": 81,
   "metadata": {},
   "outputs": [
    {
     "data": {
      "text/html": [
       "<div>\n",
       "<style scoped>\n",
       "    .dataframe tbody tr th:only-of-type {\n",
       "        vertical-align: middle;\n",
       "    }\n",
       "\n",
       "    .dataframe tbody tr th {\n",
       "        vertical-align: top;\n",
       "    }\n",
       "\n",
       "    .dataframe thead th {\n",
       "        text-align: right;\n",
       "    }\n",
       "</style>\n",
       "<table border=\"1\" class=\"dataframe\">\n",
       "  <thead>\n",
       "    <tr style=\"text-align: right;\">\n",
       "      <th></th>\n",
       "      <th>Total Count</th>\n",
       "      <th>Percentage</th>\n",
       "    </tr>\n",
       "    <tr>\n",
       "      <th>Gender</th>\n",
       "      <th></th>\n",
       "      <th></th>\n",
       "    </tr>\n",
       "  </thead>\n",
       "  <tbody>\n",
       "    <tr>\n",
       "      <th>Female</th>\n",
       "      <td>81</td>\n",
       "      <td>14.062500</td>\n",
       "    </tr>\n",
       "    <tr>\n",
       "      <th>Male</th>\n",
       "      <td>484</td>\n",
       "      <td>84.027778</td>\n",
       "    </tr>\n",
       "    <tr>\n",
       "      <th>Other / Non-Disclosed</th>\n",
       "      <td>11</td>\n",
       "      <td>1.909722</td>\n",
       "    </tr>\n",
       "  </tbody>\n",
       "</table>\n",
       "</div>"
      ],
      "text/plain": [
       "                       Total Count  Percentage\n",
       "Gender                                        \n",
       "Female                          81   14.062500\n",
       "Male                           484   84.027778\n",
       "Other / Non-Disclosed           11    1.909722"
      ]
     },
     "execution_count": 81,
     "metadata": {},
     "output_type": "execute_result"
    }
   ],
   "source": [
    "player_sexes_nosn[\"Percentage\"]=(player_sexes_nosn/number_unique_players)*100 \n",
    "player_sexes_nosn\n"
   ]
  },
  {
   "cell_type": "code",
   "execution_count": 142,
   "metadata": {},
   "outputs": [],
   "source": [
    "#playerdata"
   ]
  },
  {
   "cell_type": "code",
   "execution_count": 83,
   "metadata": {},
   "outputs": [
    {
     "data": {
      "text/html": [
       "<div>\n",
       "<style scoped>\n",
       "    .dataframe tbody tr th:only-of-type {\n",
       "        vertical-align: middle;\n",
       "    }\n",
       "\n",
       "    .dataframe tbody tr th {\n",
       "        vertical-align: top;\n",
       "    }\n",
       "\n",
       "    .dataframe thead th {\n",
       "        text-align: right;\n",
       "    }\n",
       "</style>\n",
       "<table border=\"1\" class=\"dataframe\">\n",
       "  <thead>\n",
       "    <tr style=\"text-align: right;\">\n",
       "      <th></th>\n",
       "      <th>Total Purchase Value</th>\n",
       "      <th>Purchase Count</th>\n",
       "      <th>Average Purchase Price</th>\n",
       "      <th>Avg Total Purchase per Person</th>\n",
       "    </tr>\n",
       "    <tr>\n",
       "      <th>Gender</th>\n",
       "      <th></th>\n",
       "      <th></th>\n",
       "      <th></th>\n",
       "      <th></th>\n",
       "    </tr>\n",
       "  </thead>\n",
       "  <tbody>\n",
       "    <tr>\n",
       "      <th>Female</th>\n",
       "      <td>361.94</td>\n",
       "      <td>113</td>\n",
       "      <td>3.203009</td>\n",
       "      <td>4.468395</td>\n",
       "    </tr>\n",
       "    <tr>\n",
       "      <th>Male</th>\n",
       "      <td>1967.64</td>\n",
       "      <td>652</td>\n",
       "      <td>3.017853</td>\n",
       "      <td>4.065372</td>\n",
       "    </tr>\n",
       "    <tr>\n",
       "      <th>Other / Non-Disclosed</th>\n",
       "      <td>50.19</td>\n",
       "      <td>15</td>\n",
       "      <td>3.346000</td>\n",
       "      <td>4.562727</td>\n",
       "    </tr>\n",
       "  </tbody>\n",
       "</table>\n",
       "</div>"
      ],
      "text/plain": [
       "                       Total Purchase Value  Purchase Count  \\\n",
       "Gender                                                        \n",
       "Female                               361.94             113   \n",
       "Male                                1967.64             652   \n",
       "Other / Non-Disclosed                 50.19              15   \n",
       "\n",
       "                       Average Purchase Price  Avg Total Purchase per Person  \n",
       "Gender                                                                        \n",
       "Female                               3.203009                       4.468395  \n",
       "Male                                 3.017853                       4.065372  \n",
       "Other / Non-Disclosed                3.346000                       4.562727  "
      ]
     },
     "execution_count": 83,
     "metadata": {},
     "output_type": "execute_result"
    }
   ],
   "source": [
    "\n",
    "gender_purchase_total=playerdata.groupby([\"Gender\"]).sum()[\"Price\"].rename(\"Total Purchase Value\")\n",
    "total_purchase_value=gender_purchase_total\n",
    "\n",
    "purchase_count=playerdata.groupby([\"Gender\"]).count()[\"Item Name\"].rename(\"Total Count\")\n",
    "\n",
    "gender_purchase_total=pd.DataFrame(gender_purchase_total)\n",
    "gender_purchase_total[\"Purchase Count\"]= purchase_count\n",
    "gender_purchase_total[\"Average Purchase Price\"]= total_purchase_value /purchase_count\n",
    "gender_purchase_total[\"Avg Total Purchase per Person\"]=total_purchase_value/player_sexes[\"Total Count\"]\n",
    "\n",
    "\n",
    "gender_purchase_total\n"
   ]
  },
  {
   "cell_type": "code",
   "execution_count": 84,
   "metadata": {},
   "outputs": [
    {
     "name": "stdout",
     "output_type": "stream",
     "text": [
      "7\n",
      "45\n"
     ]
    }
   ],
   "source": [
    "#Find the range of player ages\n",
    "\n",
    "print(playerdata[\"Age\"].min())\n",
    "print (playerdata[\"Age\"].max())\n"
   ]
  },
  {
   "cell_type": "code",
   "execution_count": 143,
   "metadata": {},
   "outputs": [],
   "source": [
    "players_binned=playerdatadropduplicates[\"Age\"]\n",
    "\n",
    "# Create the bins in which Data will be held  \n",
    "bins = [0, 9, 14, 19, 24, 29, 34, 39, 50]\n",
    "\n",
    "# Create the names for the  bins\n",
    "group_names = [\"< 10\", \"10-14\", \"15-19\", \"20-24\", \"25-29\", \"30-34\", \"35-39\", \"40+\"]\n",
    "\n",
    "\n",
    "players_binned = pd.DataFrame(players_binned)\n",
    "#players_binned\n"
   ]
  },
  {
   "cell_type": "code",
   "execution_count": 144,
   "metadata": {},
   "outputs": [],
   "source": [
    "#Now sort the data by age into their bins\n",
    "players_binned[\"Age Group\"] = pd.cut(players_binned[\"Age\"], bins, labels=group_names, include_lowest=True)\n",
    "\n",
    "#players_binned\n"
   ]
  },
  {
   "cell_type": "code",
   "execution_count": 145,
   "metadata": {},
   "outputs": [],
   "source": [
    "#Count the number of players in each bin\n",
    "players_binned_counted=players_binned.groupby('Age Group').count()[\"Age\"].rename(\"Age Group Count\")\n",
    "players_binned_counted=pd.DataFrame(players_binned_counted)\n",
    "#players_binned_counted\n"
   ]
  },
  {
   "cell_type": "code",
   "execution_count": 88,
   "metadata": {},
   "outputs": [],
   "source": [
    "#players_binned_counted[\"Percentage of Players\"]=pd.cut(players_binned[\"Age\"], bins, labels=group_names, include_lowest=True)\n",
    "\n",
    "#players_binned_counted\n",
    "#This can be called, but no reason to. "
   ]
  },
  {
   "cell_type": "code",
   "execution_count": 89,
   "metadata": {},
   "outputs": [
    {
     "data": {
      "text/html": [
       "<div>\n",
       "<style scoped>\n",
       "    .dataframe tbody tr th:only-of-type {\n",
       "        vertical-align: middle;\n",
       "    }\n",
       "\n",
       "    .dataframe tbody tr th {\n",
       "        vertical-align: top;\n",
       "    }\n",
       "\n",
       "    .dataframe thead th {\n",
       "        text-align: right;\n",
       "    }\n",
       "</style>\n",
       "<table border=\"1\" class=\"dataframe\">\n",
       "  <thead>\n",
       "    <tr style=\"text-align: right;\">\n",
       "      <th></th>\n",
       "      <th>Age Group Count</th>\n",
       "      <th>Percentage of Players</th>\n",
       "    </tr>\n",
       "    <tr>\n",
       "      <th>Age Group</th>\n",
       "      <th></th>\n",
       "      <th></th>\n",
       "    </tr>\n",
       "  </thead>\n",
       "  <tbody>\n",
       "    <tr>\n",
       "      <th>&lt; 10</th>\n",
       "      <td>17</td>\n",
       "      <td>2.951389</td>\n",
       "    </tr>\n",
       "    <tr>\n",
       "      <th>10-14</th>\n",
       "      <td>22</td>\n",
       "      <td>3.819444</td>\n",
       "    </tr>\n",
       "    <tr>\n",
       "      <th>15-19</th>\n",
       "      <td>107</td>\n",
       "      <td>18.576389</td>\n",
       "    </tr>\n",
       "    <tr>\n",
       "      <th>20-24</th>\n",
       "      <td>258</td>\n",
       "      <td>44.791667</td>\n",
       "    </tr>\n",
       "    <tr>\n",
       "      <th>25-29</th>\n",
       "      <td>77</td>\n",
       "      <td>13.368056</td>\n",
       "    </tr>\n",
       "    <tr>\n",
       "      <th>30-34</th>\n",
       "      <td>52</td>\n",
       "      <td>9.027778</td>\n",
       "    </tr>\n",
       "    <tr>\n",
       "      <th>35-39</th>\n",
       "      <td>31</td>\n",
       "      <td>5.381944</td>\n",
       "    </tr>\n",
       "    <tr>\n",
       "      <th>40+</th>\n",
       "      <td>12</td>\n",
       "      <td>2.083333</td>\n",
       "    </tr>\n",
       "  </tbody>\n",
       "</table>\n",
       "</div>"
      ],
      "text/plain": [
       "           Age Group Count  Percentage of Players\n",
       "Age Group                                        \n",
       "< 10                    17               2.951389\n",
       "10-14                   22               3.819444\n",
       "15-19                  107              18.576389\n",
       "20-24                  258              44.791667\n",
       "25-29                   77              13.368056\n",
       "30-34                   52               9.027778\n",
       "35-39                   31               5.381944\n",
       "40+                     12               2.083333"
      ]
     },
     "execution_count": 89,
     "metadata": {},
     "output_type": "execute_result"
    }
   ],
   "source": [
    "players_binned_counted[\"Percentage of Players\"]= (players_binned_counted[\"Age Group Count\"]/number_unique_players)*100\n",
    "\n",
    "players_binned_counted"
   ]
  },
  {
   "cell_type": "code",
   "execution_count": 146,
   "metadata": {},
   "outputs": [],
   "source": [
    "#gender_purchase_total. This is called and displayed above. "
   ]
  },
  {
   "cell_type": "code",
   "execution_count": 91,
   "metadata": {},
   "outputs": [
    {
     "name": "stdout",
     "output_type": "stream",
     "text": [
      "<pandas.core.groupby.generic.DataFrameGroupBy object at 0x000001D3FC84E668>\n"
     ]
    }
   ],
   "source": [
    "age_purchase_total_df=playerdata.groupby([\"Age\"])\n",
    "\n",
    "print(age_purchase_total_df)\n",
    "\n",
    "\n",
    "age_purchase_total=playerdata.groupby([\"Age\"]).sum()[\"Price\"].rename(\"Total Purchase Value\")\n",
    "total_purchase_value=age_purchase_total\n",
    "\n",
    "purchase_count=playerdata.groupby([\"Age\"]).count()[\"Item Name\"].rename(\"Total Count\")\n",
    "\n",
    "age_purchase_total_df=pd.DataFrame(age_purchase_total)\n",
    "age_purchase_total_df[\"Purchase Count\"]= purchase_count\n",
    "age_purchase_total_df[\"Average Purchase Price\"]= total_purchase_value /purchase_count\n",
    "#gender_purchase_total[\"Avg Total Purchase per Person\"]=total_purchase_value/player_sexes[\"Total Count\"]\n",
    "\n",
    "\n",
    "#age_purchase_total_df\n",
    "#this can be called, but doesn't have much that's useful. But I wrote this damn code and I will NOT erase it. "
   ]
  },
  {
   "cell_type": "code",
   "execution_count": 92,
   "metadata": {},
   "outputs": [],
   "source": []
  },
  {
   "cell_type": "code",
   "execution_count": 151,
   "metadata": {},
   "outputs": [],
   "source": [
    "#This is the one that's working. Don't change this code. \n",
    "\n",
    "only_purchase_data = playerdata[[\"Age\", \"Price\", \"Gender\", \"Purchase ID\", \"SN\" ]]\n",
    "only_purchase_data_df = pd.DataFrame(only_purchase_data)\n",
    "# Create the bins in which Data will be held  \n",
    "bins = [0, 9, 14, 19, 24, 29, 34, 39, 50]\n",
    "# Create the names for the  bins\n",
    "group_names = [\"< 10\", \"10-14\", \"15-19\", \"20-24\", \"25-29\", \"30-34\", \"35-39\", \"40+\"]\n",
    "only_purchase_data_df[\"Age Group\"] = pd.cut(only_purchase_data_df[\"Age\"], bins, labels=group_names, include_lowest=True)\n",
    "#only_purchase_data_df"
   ]
  },
  {
   "cell_type": "code",
   "execution_count": 152,
   "metadata": {},
   "outputs": [],
   "source": [
    "#count how many people are in each bin.\n",
    "only_purchase_data_bin_unique_people=only_purchase_data_df.groupby('Age Group').count()[\"SN\"].rename(\"Unique People\") \n",
    "only_purchase_data_bin_unique_people=pd.DataFrame(only_purchase_data_bin_unique_people)\n",
    "\n",
    "\n",
    "#only_purchase_data_bin_unique_people\n"
   ]
  },
  {
   "cell_type": "code",
   "execution_count": 153,
   "metadata": {},
   "outputs": [],
   "source": [
    "#count how many people are in each bin.\n",
    "only_purchase_data_bin_counts=only_purchase_data_df.groupby('Age Group').count()[\"Purchase ID\"].rename(\"Total Count\") \n",
    "only_purchase_data_bin_counts=pd.DataFrame(only_purchase_data_bin_counts)\n",
    "\n",
    "\n",
    "#only_purchase_data_bin_counts\n"
   ]
  },
  {
   "cell_type": "code",
   "execution_count": 150,
   "metadata": {},
   "outputs": [
    {
     "data": {
      "text/html": [
       "<div>\n",
       "<style scoped>\n",
       "    .dataframe tbody tr th:only-of-type {\n",
       "        vertical-align: middle;\n",
       "    }\n",
       "\n",
       "    .dataframe tbody tr th {\n",
       "        vertical-align: top;\n",
       "    }\n",
       "\n",
       "    .dataframe thead th {\n",
       "        text-align: right;\n",
       "    }\n",
       "</style>\n",
       "<table border=\"1\" class=\"dataframe\">\n",
       "  <thead>\n",
       "    <tr style=\"text-align: right;\">\n",
       "      <th></th>\n",
       "      <th>Total Purchase Value</th>\n",
       "      <th>Purchase Count</th>\n",
       "      <th>Average Purchase Price</th>\n",
       "      <th>Avg Total Purchase per Person</th>\n",
       "    </tr>\n",
       "    <tr>\n",
       "      <th>Age Group</th>\n",
       "      <th></th>\n",
       "      <th></th>\n",
       "      <th></th>\n",
       "      <th></th>\n",
       "    </tr>\n",
       "  </thead>\n",
       "  <tbody>\n",
       "    <tr>\n",
       "      <th>&lt; 10</th>\n",
       "      <td>77.13</td>\n",
       "      <td>23</td>\n",
       "      <td>3.353478</td>\n",
       "      <td>4.537059</td>\n",
       "    </tr>\n",
       "    <tr>\n",
       "      <th>10-14</th>\n",
       "      <td>82.78</td>\n",
       "      <td>28</td>\n",
       "      <td>2.956429</td>\n",
       "      <td>3.762727</td>\n",
       "    </tr>\n",
       "    <tr>\n",
       "      <th>15-19</th>\n",
       "      <td>412.89</td>\n",
       "      <td>136</td>\n",
       "      <td>3.035956</td>\n",
       "      <td>3.858785</td>\n",
       "    </tr>\n",
       "    <tr>\n",
       "      <th>20-24</th>\n",
       "      <td>1114.06</td>\n",
       "      <td>365</td>\n",
       "      <td>3.052219</td>\n",
       "      <td>4.318062</td>\n",
       "    </tr>\n",
       "    <tr>\n",
       "      <th>25-29</th>\n",
       "      <td>293.00</td>\n",
       "      <td>101</td>\n",
       "      <td>2.900990</td>\n",
       "      <td>3.805195</td>\n",
       "    </tr>\n",
       "    <tr>\n",
       "      <th>30-34</th>\n",
       "      <td>214.00</td>\n",
       "      <td>73</td>\n",
       "      <td>2.931507</td>\n",
       "      <td>4.115385</td>\n",
       "    </tr>\n",
       "    <tr>\n",
       "      <th>35-39</th>\n",
       "      <td>147.67</td>\n",
       "      <td>41</td>\n",
       "      <td>3.601707</td>\n",
       "      <td>4.763548</td>\n",
       "    </tr>\n",
       "    <tr>\n",
       "      <th>40+</th>\n",
       "      <td>38.24</td>\n",
       "      <td>13</td>\n",
       "      <td>2.941538</td>\n",
       "      <td>3.186667</td>\n",
       "    </tr>\n",
       "  </tbody>\n",
       "</table>\n",
       "</div>"
      ],
      "text/plain": [
       "           Total Purchase Value  Purchase Count  Average Purchase Price  \\\n",
       "Age Group                                                                 \n",
       "< 10                      77.13              23                3.353478   \n",
       "10-14                     82.78              28                2.956429   \n",
       "15-19                    412.89             136                3.035956   \n",
       "20-24                   1114.06             365                3.052219   \n",
       "25-29                    293.00             101                2.900990   \n",
       "30-34                    214.00              73                2.931507   \n",
       "35-39                    147.67              41                3.601707   \n",
       "40+                       38.24              13                2.941538   \n",
       "\n",
       "           Avg Total Purchase per Person  \n",
       "Age Group                                 \n",
       "< 10                            4.537059  \n",
       "10-14                           3.762727  \n",
       "15-19                           3.858785  \n",
       "20-24                           4.318062  \n",
       "25-29                           3.805195  \n",
       "30-34                           4.115385  \n",
       "35-39                           4.763548  \n",
       "40+                             3.186667  "
      ]
     },
     "execution_count": 150,
     "metadata": {},
     "output_type": "execute_result"
    }
   ],
   "source": [
    "#This works. Don't change this code. \n",
    "only_purchase_data_binned=only_purchase_data_df.groupby('Age Group').sum()[\"Price\"].rename(\"Total Purchase Value\")\n",
    "only_purchase_data_binned=pd.DataFrame(only_purchase_data_binned)\n",
    "\n",
    "purchase_count=playerdata.groupby([\"Gender\"]).count()[\"Item Name\"].rename(\"Total Count\")\n",
    "\n",
    "only_purchase_data_binned[\"Purchase Count\"]= only_purchase_data_bin_counts[\"Total Count\"]\n",
    "only_purchase_data_binned[\"Average Purchase Price\"]= only_purchase_data_binned[\"Total Purchase Value\"]/only_purchase_data_binned[\"Purchase Count\"]\n",
    "only_purchase_data_binned[\"Avg Total Purchase per Person\"]=only_purchase_data_binned[\"Total Purchase Value\"]/players_binned_counted[\"Age Group Count\"]\n",
    "\n",
    "only_purchase_data_binned"
   ]
  },
  {
   "cell_type": "code",
   "execution_count": 154,
   "metadata": {},
   "outputs": [],
   "source": [
    "#count how many people are in each bin.\n",
    "SN_only_purchase_data_bin_counts=only_purchase_data_df.groupby('SN').count()[\"Purchase ID\"].rename(\"Total Count\") \n",
    "SN_only_purchase_data_bin_counts=pd.DataFrame(only_purchase_data_bin_counts)\n",
    "\n",
    "\n",
    "#SN_only_purchase_data_bin_counts"
   ]
  },
  {
   "cell_type": "code",
   "execution_count": 167,
   "metadata": {},
   "outputs": [
    {
     "data": {
      "text/html": [
       "<div>\n",
       "<style scoped>\n",
       "    .dataframe tbody tr th:only-of-type {\n",
       "        vertical-align: middle;\n",
       "    }\n",
       "\n",
       "    .dataframe tbody tr th {\n",
       "        vertical-align: top;\n",
       "    }\n",
       "\n",
       "    .dataframe thead th {\n",
       "        text-align: right;\n",
       "    }\n",
       "</style>\n",
       "<table border=\"1\" class=\"dataframe\">\n",
       "  <thead>\n",
       "    <tr style=\"text-align: right;\">\n",
       "      <th></th>\n",
       "      <th>Total Purchase Value</th>\n",
       "      <th>Purchase Count</th>\n",
       "      <th>Average Purchase Price</th>\n",
       "    </tr>\n",
       "    <tr>\n",
       "      <th>SN</th>\n",
       "      <th></th>\n",
       "      <th></th>\n",
       "      <th></th>\n",
       "    </tr>\n",
       "  </thead>\n",
       "  <tbody>\n",
       "    <tr>\n",
       "      <th>Lisosia93</th>\n",
       "      <td>18.96</td>\n",
       "      <td>5</td>\n",
       "      <td>3.792000</td>\n",
       "    </tr>\n",
       "    <tr>\n",
       "      <th>Idastidru52</th>\n",
       "      <td>15.45</td>\n",
       "      <td>4</td>\n",
       "      <td>3.862500</td>\n",
       "    </tr>\n",
       "    <tr>\n",
       "      <th>Chamjask73</th>\n",
       "      <td>13.83</td>\n",
       "      <td>3</td>\n",
       "      <td>4.610000</td>\n",
       "    </tr>\n",
       "    <tr>\n",
       "      <th>Iral74</th>\n",
       "      <td>13.62</td>\n",
       "      <td>4</td>\n",
       "      <td>3.405000</td>\n",
       "    </tr>\n",
       "    <tr>\n",
       "      <th>Iskadarya95</th>\n",
       "      <td>13.10</td>\n",
       "      <td>3</td>\n",
       "      <td>4.366667</td>\n",
       "    </tr>\n",
       "  </tbody>\n",
       "</table>\n",
       "</div>"
      ],
      "text/plain": [
       "             Total Purchase Value  Purchase Count  Average Purchase Price\n",
       "SN                                                                       \n",
       "Lisosia93                   18.96               5                3.792000\n",
       "Idastidru52                 15.45               4                3.862500\n",
       "Chamjask73                  13.83               3                4.610000\n",
       "Iral74                      13.62               4                3.405000\n",
       "Iskadarya95                 13.10               3                4.366667"
      ]
     },
     "execution_count": 167,
     "metadata": {},
     "output_type": "execute_result"
    }
   ],
   "source": [
    "SN_Data_Purchase=playerdata.groupby(\"SN\").sum()[\"Price\"].rename(\"Total Purchase Value\")\n",
    "SN_Data_Purchase_df=pd.DataFrame(SN_Data_Purchase)\n",
    "\n",
    "SN_Data_Purchase_df[\"Purchase Count\"]= only_purchase_data_df.groupby('SN').count()[\"Purchase ID\"].rename(\"Total Count\") \n",
    "SN_Data_Purchase_df[\"Average Purchase Price\"]=(playerdata.groupby(\"SN\").sum()[\"Price\"])/(only_purchase_data_df.groupby('SN').count()[\"Purchase ID\"].rename(\"Total Count\"))\n",
    "\n",
    "SN_Data_Purchase_sorted=SN_Data_Purchase_df.sort_values(by=['Total Purchase Value'], ascending=False)\n",
    "\n",
    "\n",
    "\n",
    "SN_Data_Purchase_sorted.head()\n",
    "#SN_Data_Purchase.drop[\"Avg Total Purchase per Person\"] didn't work to drop the last column. Try something else?"
   ]
  },
  {
   "cell_type": "code",
   "execution_count": null,
   "metadata": {},
   "outputs": [],
   "source": []
  },
  {
   "cell_type": "code",
   "execution_count": 168,
   "metadata": {},
   "outputs": [],
   "source": [
    "items_df=playerdata.groupby(['Item ID', 'Item Name']).count()[\"Purchase ID\"].rename(\"Total Count\")  \n",
    "items_df=pd.DataFrame(items_df)\n",
    "\n",
    "#items_df\n",
    "#I realize that this is an awkward way to get to the final result in the table below, but it's what seems to be working tonight"
   ]
  },
  {
   "cell_type": "code",
   "execution_count": 169,
   "metadata": {},
   "outputs": [
    {
     "data": {
      "text/html": [
       "<div>\n",
       "<style scoped>\n",
       "    .dataframe tbody tr th:only-of-type {\n",
       "        vertical-align: middle;\n",
       "    }\n",
       "\n",
       "    .dataframe tbody tr th {\n",
       "        vertical-align: top;\n",
       "    }\n",
       "\n",
       "    .dataframe thead th {\n",
       "        text-align: right;\n",
       "    }\n",
       "</style>\n",
       "<table border=\"1\" class=\"dataframe\">\n",
       "  <thead>\n",
       "    <tr style=\"text-align: right;\">\n",
       "      <th></th>\n",
       "      <th></th>\n",
       "      <th>Total Purchase Value</th>\n",
       "      <th>Purchase Count</th>\n",
       "      <th>Item Price</th>\n",
       "    </tr>\n",
       "    <tr>\n",
       "      <th>Item ID</th>\n",
       "      <th>Item Name</th>\n",
       "      <th></th>\n",
       "      <th></th>\n",
       "      <th></th>\n",
       "    </tr>\n",
       "  </thead>\n",
       "  <tbody>\n",
       "    <tr>\n",
       "      <th>92</th>\n",
       "      <th>Final Critic</th>\n",
       "      <td>59.99</td>\n",
       "      <td>13</td>\n",
       "      <td>4.614615</td>\n",
       "    </tr>\n",
       "    <tr>\n",
       "      <th>178</th>\n",
       "      <th>Oathbreaker, Last Hope of the Breaking Storm</th>\n",
       "      <td>50.76</td>\n",
       "      <td>12</td>\n",
       "      <td>4.230000</td>\n",
       "    </tr>\n",
       "    <tr>\n",
       "      <th>145</th>\n",
       "      <th>Fiery Glass Crusader</th>\n",
       "      <td>41.22</td>\n",
       "      <td>9</td>\n",
       "      <td>4.580000</td>\n",
       "    </tr>\n",
       "    <tr>\n",
       "      <th>132</th>\n",
       "      <th>Persuasion</th>\n",
       "      <td>28.99</td>\n",
       "      <td>9</td>\n",
       "      <td>3.221111</td>\n",
       "    </tr>\n",
       "    <tr>\n",
       "      <th>108</th>\n",
       "      <th>Extraction, Quickblade Of Trembling Hands</th>\n",
       "      <td>31.77</td>\n",
       "      <td>9</td>\n",
       "      <td>3.530000</td>\n",
       "    </tr>\n",
       "  </tbody>\n",
       "</table>\n",
       "</div>"
      ],
      "text/plain": [
       "                                                      Total Purchase Value  \\\n",
       "Item ID Item Name                                                            \n",
       "92      Final Critic                                                 59.99   \n",
       "178     Oathbreaker, Last Hope of the Breaking Storm                 50.76   \n",
       "145     Fiery Glass Crusader                                         41.22   \n",
       "132     Persuasion                                                   28.99   \n",
       "108     Extraction, Quickblade Of Trembling Hands                    31.77   \n",
       "\n",
       "                                                      Purchase Count  \\\n",
       "Item ID Item Name                                                      \n",
       "92      Final Critic                                              13   \n",
       "178     Oathbreaker, Last Hope of the Breaking Storm              12   \n",
       "145     Fiery Glass Crusader                                       9   \n",
       "132     Persuasion                                                 9   \n",
       "108     Extraction, Quickblade Of Trembling Hands                  9   \n",
       "\n",
       "                                                      Item Price  \n",
       "Item ID Item Name                                                 \n",
       "92      Final Critic                                    4.614615  \n",
       "178     Oathbreaker, Last Hope of the Breaking Storm    4.230000  \n",
       "145     Fiery Glass Crusader                            4.580000  \n",
       "132     Persuasion                                      3.221111  \n",
       "108     Extraction, Quickblade Of Trembling Hands       3.530000  "
      ]
     },
     "execution_count": 169,
     "metadata": {},
     "output_type": "execute_result"
    }
   ],
   "source": [
    "popular_items=playerdata.groupby(['Item ID', 'Item Name']).sum()[\"Price\"].rename(\"Total Purchase Value\")\n",
    "popular_items=pd.DataFrame(popular_items)\n",
    "\n",
    "popular_items[\"Purchase Count\"]=items_df[\"Total Count\"]\n",
    "popular_items[\"Item Price\"]=playerdata[\"Price\"]\n",
    "\n",
    "new_popular_items_df=pd.concat([items_df, popular_items], axis=1)\n",
    "\n",
    "new_popular_items_df[\"Item Price\"]=(new_popular_items_df[\"Total Purchase Value\"]/new_popular_items_df[\"Purchase Count\"])\n",
    "\n",
    "del new_popular_items_df[\"Total Count\"]\n",
    "\n",
    "new_popular_items_df_descending=new_popular_items_df.sort_values([\"Purchase Count\"], ascending=False)\n",
    "\n",
    "new_popular_items_df_descending.head()"
   ]
  },
  {
   "cell_type": "code",
   "execution_count": 170,
   "metadata": {},
   "outputs": [
    {
     "data": {
      "text/html": [
       "<div>\n",
       "<style scoped>\n",
       "    .dataframe tbody tr th:only-of-type {\n",
       "        vertical-align: middle;\n",
       "    }\n",
       "\n",
       "    .dataframe tbody tr th {\n",
       "        vertical-align: top;\n",
       "    }\n",
       "\n",
       "    .dataframe thead th {\n",
       "        text-align: right;\n",
       "    }\n",
       "</style>\n",
       "<table border=\"1\" class=\"dataframe\">\n",
       "  <thead>\n",
       "    <tr style=\"text-align: right;\">\n",
       "      <th></th>\n",
       "      <th></th>\n",
       "      <th>Total Purchase Value</th>\n",
       "      <th>Purchase Count</th>\n",
       "      <th>Item Price</th>\n",
       "    </tr>\n",
       "    <tr>\n",
       "      <th>Item ID</th>\n",
       "      <th>Item Name</th>\n",
       "      <th></th>\n",
       "      <th></th>\n",
       "      <th></th>\n",
       "    </tr>\n",
       "  </thead>\n",
       "  <tbody>\n",
       "    <tr>\n",
       "      <th>92</th>\n",
       "      <th>Final Critic</th>\n",
       "      <td>59.99</td>\n",
       "      <td>13</td>\n",
       "      <td>4.614615</td>\n",
       "    </tr>\n",
       "    <tr>\n",
       "      <th>178</th>\n",
       "      <th>Oathbreaker, Last Hope of the Breaking Storm</th>\n",
       "      <td>50.76</td>\n",
       "      <td>12</td>\n",
       "      <td>4.230000</td>\n",
       "    </tr>\n",
       "    <tr>\n",
       "      <th>82</th>\n",
       "      <th>Nirvana</th>\n",
       "      <td>44.10</td>\n",
       "      <td>9</td>\n",
       "      <td>4.900000</td>\n",
       "    </tr>\n",
       "    <tr>\n",
       "      <th>145</th>\n",
       "      <th>Fiery Glass Crusader</th>\n",
       "      <td>41.22</td>\n",
       "      <td>9</td>\n",
       "      <td>4.580000</td>\n",
       "    </tr>\n",
       "    <tr>\n",
       "      <th>103</th>\n",
       "      <th>Singed Scalpel</th>\n",
       "      <td>34.80</td>\n",
       "      <td>8</td>\n",
       "      <td>4.350000</td>\n",
       "    </tr>\n",
       "  </tbody>\n",
       "</table>\n",
       "</div>"
      ],
      "text/plain": [
       "                                                      Total Purchase Value  \\\n",
       "Item ID Item Name                                                            \n",
       "92      Final Critic                                                 59.99   \n",
       "178     Oathbreaker, Last Hope of the Breaking Storm                 50.76   \n",
       "82      Nirvana                                                      44.10   \n",
       "145     Fiery Glass Crusader                                         41.22   \n",
       "103     Singed Scalpel                                               34.80   \n",
       "\n",
       "                                                      Purchase Count  \\\n",
       "Item ID Item Name                                                      \n",
       "92      Final Critic                                              13   \n",
       "178     Oathbreaker, Last Hope of the Breaking Storm              12   \n",
       "82      Nirvana                                                    9   \n",
       "145     Fiery Glass Crusader                                       9   \n",
       "103     Singed Scalpel                                             8   \n",
       "\n",
       "                                                      Item Price  \n",
       "Item ID Item Name                                                 \n",
       "92      Final Critic                                    4.614615  \n",
       "178     Oathbreaker, Last Hope of the Breaking Storm    4.230000  \n",
       "82      Nirvana                                         4.900000  \n",
       "145     Fiery Glass Crusader                            4.580000  \n",
       "103     Singed Scalpel                                  4.350000  "
      ]
     },
     "execution_count": 170,
     "metadata": {},
     "output_type": "execute_result"
    }
   ],
   "source": [
    "new_popular_items_df_descending_sorted=new_popular_items_df_descending.sort_values([\"Total Purchase Value\"], ascending=False)\n",
    "\n",
    "\n",
    "new_popular_items_df_descending_sorted.head()"
   ]
  },
  {
   "cell_type": "code",
   "execution_count": null,
   "metadata": {},
   "outputs": [],
   "source": []
  },
  {
   "cell_type": "code",
   "execution_count": null,
   "metadata": {},
   "outputs": [],
   "source": []
  }
 ],
 "metadata": {
  "kernelspec": {
   "display_name": "Python [conda env:PythonData] *",
   "language": "python",
   "name": "conda-env-PythonData-py"
  },
  "language_info": {
   "codemirror_mode": {
    "name": "ipython",
    "version": 3
   },
   "file_extension": ".py",
   "mimetype": "text/x-python",
   "name": "python",
   "nbconvert_exporter": "python",
   "pygments_lexer": "ipython3",
   "version": "3.7.1"
  }
 },
 "nbformat": 4,
 "nbformat_minor": 4
}
